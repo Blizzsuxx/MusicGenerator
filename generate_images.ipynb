{
 "cells": [
  {
   "cell_type": "code",
   "execution_count": 3,
   "id": "85f00703",
   "metadata": {},
   "outputs": [],
   "source": [
    "from music21 import converter, instrument, note, chord\n",
    "import sys\n",
    "import numpy as np\n",
    "import os\n",
    "from imageio import imwrite\n",
    "\n",
    "def extractNote(element):\n",
    "    return int(element.pitch.ps)\n",
    "\n",
    "def extractDuration(element):\n",
    "    return element.duration.quarterLength\n",
    "\n",
    "def get_notes(notes_to_parse):\n",
    "\n",
    "    \"\"\" Get all the notes and chords from the midi files in the ./midi_songs directory \"\"\"\n",
    "    durations = []\n",
    "    notes = []\n",
    "    start = []\n",
    "\n",
    "    for element in notes_to_parse:\n",
    "        if isinstance(element, note.Note):\n",
    "            if element.isRest:\n",
    "                continue\n",
    "\n",
    "            start.append(element.offset)\n",
    "            notes.append(extractNote(element))\n",
    "            durations.append(extractDuration(element))\n",
    "                \n",
    "        elif isinstance(element, chord.Chord):\n",
    "            if element.isRest:\n",
    "                continue\n",
    "            for chord_note in element.notes:\n",
    "                start.append(element.offset)\n",
    "                durations.append(extractDuration(element))\n",
    "                notes.append(extractNote(chord_note))\n",
    "\n",
    "    return {\"start\":start, \"pitch\":notes, \"dur\":durations}\n",
    "\n",
    "\n",
    "def midi2image(midi_path, max_repetitions = float(\"inf\"), resolution = 0.25, lowerBoundNote = 21, upperBoundNote = 127, maxSongLength = 100):\n",
    "    #print(midi_path)\n",
    "    try:\n",
    "        mid = converter.parse(midi_path)\n",
    "\n",
    "        instruments = instrument.partitionByInstrument(mid)\n",
    "\n",
    "        data = {}\n",
    "\n",
    "        try:\n",
    "            i=0\n",
    "            for instrument_i in instruments.parts:\n",
    "                notes_to_parse = instrument_i.recurse()\n",
    "\n",
    "                notes_data = get_notes(notes_to_parse)\n",
    "                if len(notes_data[\"start\"]) == 0:\n",
    "                    continue\n",
    "\n",
    "                if instrument_i.partName is None:\n",
    "                    data[\"instrument_{}\".format(i)] = notes_data\n",
    "                    i+=1\n",
    "                else:\n",
    "                    data[instrument_i.partName] = notes_data\n",
    "\n",
    "        except:\n",
    "            notes_to_parse = mid.flat.notes\n",
    "            data[\"instrument_0\"] = get_notes(notes_to_parse)\n",
    "\n",
    "        for instrument_name, values in data.items():\n",
    "            # https://en.wikipedia.org/wiki/Scientific_pitch_notation#Similar_systems\n",
    "\n",
    "            pitches = values[\"pitch\"]\n",
    "            durs = values[\"dur\"]\n",
    "            starts = values[\"start\"]\n",
    "\n",
    "            index = 0\n",
    "            while index < max_repetitions:\n",
    "                matrix = np.zeros((upperBoundNote-lowerBoundNote,maxSongLength))\n",
    "\n",
    "\n",
    "                for dur, start, pitch in zip(durs, starts, pitches):\n",
    "                    dur = int(dur/resolution)\n",
    "                    start = int(start/resolution)\n",
    "\n",
    "                    if not start > index*(maxSongLength+1) or not dur+start < index*maxSongLength:\n",
    "                        for j in range(start,start+dur):\n",
    "                            if j - index*maxSongLength >= 0 and j - index*maxSongLength < maxSongLength:\n",
    "                                matrix[pitch-lowerBoundNote,j - index*maxSongLength] = 255\n",
    "\n",
    "                if matrix.any(): # If matrix contains no notes (only zeros) don't save it\n",
    "                    imwrite(midi_path.split(\"/\")[-1].replace(\".mid\",f\"_{instrument_name}_{index}.png\"),matrix.astype(np.uint8))\n",
    "                    index += 1\n",
    "                else:\n",
    "                    break\n",
    "        #print(\"worked\")\n",
    "        return True\n",
    "    except:\n",
    "        #print(\"Dont work\")\n",
    "        return False"
   ]
  },
  {
   "cell_type": "code",
   "execution_count": 4,
   "id": "4441fe2c",
   "metadata": {},
   "outputs": [],
   "source": [
    "def start_generating_images(path):\n",
    "    list_paths = []\n",
    "    for subdir, dirs, files in os.walk(path):\n",
    "        for file in files:\n",
    "            if file.endswith(\"mid\"):\n",
    "                #print(os.path.join(subdir, file))\n",
    "                list_paths.append(os.path.join(subdir, file))\n",
    "                break;\n",
    "    worked =0\n",
    "    didnt = 0;\n",
    "    for path in list_paths[2688:]:\n",
    "        print(path)\n",
    "        if midi2image(path, 1):\n",
    "            worked +=1\n",
    "        else:\n",
    "            didnt +=1\n",
    "    print(\"didnt\", didnt)\n",
    "    print(\"worked\", worked)\n",
    "        "
   ]
  },
  {
   "cell_type": "code",
   "execution_count": 5,
   "id": "c1edaddd",
   "metadata": {},
   "outputs": [
    {
     "name": "stdout",
     "output_type": "stream",
     "text": [
      "C:/soft/bb/MusicGenerator/midi\\Thunder Force II\\Sega_Techno-Soft_1989_Thunder-Force-II_07-03-05_Track-01.mid\n",
      "C:/soft/bb/MusicGenerator/midi\\Thunder Force III\\base.mid\n"
     ]
    },
    {
     "name": "stderr",
     "output_type": "stream",
     "text": [
      "C:\\Users\\rajta\\anaconda3\\lib\\site-packages\\music21\\midi\\translate.py:790: TranslateWarning: Unable to determine instrument from <music21.midi.MidiEvent PROGRAM_CHANGE, track=1, channel=10, data=0>; getting generic UnpitchedPercussion\n",
      "  warnings.warn(\n"
     ]
    },
    {
     "name": "stdout",
     "output_type": "stream",
     "text": [
      "C:/soft/bb/MusicGenerator/midi\\Thunder Force V\\tf5188.mid\n"
     ]
    },
    {
     "name": "stderr",
     "output_type": "stream",
     "text": [
      "C:\\Users\\rajta\\anaconda3\\lib\\site-packages\\music21\\midi\\translate.py:790: TranslateWarning: Unable to determine instrument from <music21.midi.MidiEvent PROGRAM_CHANGE, track=10, channel=10, data=16>; getting generic UnpitchedPercussion\n",
      "  warnings.warn(\n"
     ]
    },
    {
     "name": "stdout",
     "output_type": "stream",
     "text": [
      "C:/soft/bb/MusicGenerator/midi\\Thunder Spirits\\Tshiscre.mid\n"
     ]
    },
    {
     "name": "stderr",
     "output_type": "stream",
     "text": [
      "C:\\Users\\rajta\\anaconda3\\lib\\site-packages\\music21\\midi\\translate.py:785: TranslateWarning: Unable to determine instrument from <music21.midi.MidiEvent SEQUENCE_TRACK_NAME, track=6, channel=None, data=b'\\xa9 1992 Toshiba EMI'>; getting generic Instrument\n",
      "  warnings.warn(\n",
      "C:\\Users\\rajta\\anaconda3\\lib\\site-packages\\music21\\midi\\translate.py:790: TranslateWarning: Unable to determine instrument from <music21.midi.MidiEvent PROGRAM_CHANGE, track=6, channel=10, data=0>; getting generic UnpitchedPercussion\n",
      "  warnings.warn(\n"
     ]
    },
    {
     "name": "stdout",
     "output_type": "stream",
     "text": [
      "C:/soft/bb/MusicGenerator/midi\\Thundercade\\thundercade.mid\n",
      "C:/soft/bb/MusicGenerator/midi\\Thundercats\\Thundercats.mid\n"
     ]
    },
    {
     "name": "stderr",
     "output_type": "stream",
     "text": [
      "C:\\Users\\rajta\\anaconda3\\lib\\site-packages\\music21\\midi\\translate.py:790: TranslateWarning: Unable to determine instrument from <music21.midi.MidiEvent PROGRAM_CHANGE, track=1, channel=10, data=16>; getting generic UnpitchedPercussion\n",
      "  warnings.warn(\n"
     ]
    },
    {
     "name": "stdout",
     "output_type": "stream",
     "text": [
      "C:/soft/bb/MusicGenerator/midi\\Thunderstorm LX-3 & Road Blaster\\rdblstr-title.mid\n",
      "C:/soft/bb/MusicGenerator/midi\\Tiger Heli (Japan)\\tiger_heli.mid\n",
      "C:/soft/bb/MusicGenerator/midi\\Tiger Road\\tigerroad-level1.mid\n",
      "C:/soft/bb/MusicGenerator/midi\\Time Crisis\\bman_arc_timecrisis_ingame1.mid\n",
      "C:/soft/bb/MusicGenerator/midi\\Time Crisis 3\\TC3_Wild_Dog_and_Wild_Fang.mid\n"
     ]
    },
    {
     "name": "stderr",
     "output_type": "stream",
     "text": [
      "C:\\Users\\rajta\\anaconda3\\lib\\site-packages\\music21\\midi\\translate.py:790: TranslateWarning: Unable to determine instrument from <music21.midi.MidiEvent PROGRAM_CHANGE, track=10, channel=10, data=0>; getting generic UnpitchedPercussion\n",
      "  warnings.warn(\n",
      "C:\\Users\\rajta\\anaconda3\\lib\\site-packages\\music21\\midi\\translate.py:790: TranslateWarning: Unable to determine instrument from <music21.midi.MidiEvent PROGRAM_CHANGE, track=11, channel=10, data=0>; getting generic UnpitchedPercussion\n",
      "  warnings.warn(\n",
      "C:\\Users\\rajta\\anaconda3\\lib\\site-packages\\music21\\midi\\translate.py:790: TranslateWarning: Unable to determine instrument from <music21.midi.MidiEvent PROGRAM_CHANGE, track=12, channel=10, data=0>; getting generic UnpitchedPercussion\n",
      "  warnings.warn(\n"
     ]
    },
    {
     "name": "stdout",
     "output_type": "stream",
     "text": [
      "C:/soft/bb/MusicGenerator/midi\\Time Hollow\\TimeHollow-DistantMemories1.mid\n",
      "C:/soft/bb/MusicGenerator/midi\\Time Pilot\\TimePilot.mid\n"
     ]
    },
    {
     "name": "stderr",
     "output_type": "stream",
     "text": [
      "C:\\Users\\rajta\\anaconda3\\lib\\site-packages\\music21\\midi\\translate.py:785: TranslateWarning: Unable to determine instrument from <music21.midi.MidiEvent SEQUENCE_TRACK_NAME, track=2, channel=None, data=b'Sequenced by Jo\\xe3o *Johnnyz* Buaes'>; getting generic Instrument\n",
      "  warnings.warn(\n"
     ]
    },
    {
     "name": "stdout",
     "output_type": "stream",
     "text": [
      "C:/soft/bb/MusicGenerator/midi\\Time Trax\\Stages_2_5_7.mid\n"
     ]
    },
    {
     "name": "stderr",
     "output_type": "stream",
     "text": [
      "C:\\Users\\rajta\\anaconda3\\lib\\site-packages\\music21\\midi\\translate.py:790: TranslateWarning: Unable to determine instrument from <music21.midi.MidiEvent PROGRAM_CHANGE, track=7, channel=10, data=16>; getting generic UnpitchedPercussion\n",
      "  warnings.warn(\n"
     ]
    },
    {
     "name": "stdout",
     "output_type": "stream",
     "text": [
      "C:/soft/bb/MusicGenerator/midi\\Time Warp Of Dr  Brain, The\\CavePuzz10.mid\n",
      "C:/soft/bb/MusicGenerator/midi\\TimeSplitters 2\\Circus-1.mid\n",
      "C:/soft/bb/MusicGenerator/midi\\Tin Star\\RH_TinStar_GallopStage.mid\n"
     ]
    },
    {
     "name": "stderr",
     "output_type": "stream",
     "text": [
      "C:\\Users\\rajta\\anaconda3\\lib\\site-packages\\music21\\midi\\translate.py:790: TranslateWarning: Unable to determine instrument from <music21.midi.MidiEvent PROGRAM_CHANGE, track=4, channel=10, data=25>; getting generic UnpitchedPercussion\n",
      "  warnings.warn(\n"
     ]
    },
    {
     "name": "stdout",
     "output_type": "stream",
     "text": [
      "C:/soft/bb/MusicGenerator/midi\\Tin Tin on the Moon\\tin.mid\n",
      "C:/soft/bb/MusicGenerator/midi\\Tiny Toon Adventures\\Tiny_Toon_Adventures!.mid\n",
      "C:/soft/bb/MusicGenerator/midi\\Tiny Toon Adventures_ Babs's Big Break\\ttagbmmsn.mid\n"
     ]
    },
    {
     "name": "stderr",
     "output_type": "stream",
     "text": [
      "C:\\Users\\rajta\\anaconda3\\lib\\site-packages\\music21\\midi\\translate.py:790: TranslateWarning: Unable to determine instrument from <music21.midi.MidiEvent PROGRAM_CHANGE, track=5, channel=10, data=0>; getting generic UnpitchedPercussion\n",
      "  warnings.warn(\n"
     ]
    },
    {
     "name": "stdout",
     "output_type": "stream",
     "text": [
      "C:/soft/bb/MusicGenerator/midi\\Tiny Toon Adventures_ Buster Busts Loose\\1138190-SNES_BS_BNS_WN1.mid\n",
      "C:/soft/bb/MusicGenerator/midi\\Tiny Toon Adventures_ Montana's Movie Madness\\tta2s1.mid\n",
      "C:/soft/bb/MusicGenerator/midi\\Tiny Toon Adventures_ Wacky Sports Challenge\\ttawsc-birdmanv1_01.mid\n",
      "C:/soft/bb/MusicGenerator/midi\\Tiny Toon Adventures_ Wacky Stackers\\1psvl.mid\n",
      "C:/soft/bb/MusicGenerator/midi\\Tiny Toons Adventures_ Buster's Hidden Treasure\\TinyToonsBHT-Boss.mid\n",
      "C:/soft/bb/MusicGenerator/midi\\Titanic_ Adventure Out of Time\\titanic_grand_staircase.mid\n",
      "C:/soft/bb/MusicGenerator/midi\\To the Earth\\To_the_Earth_Anthem.mid\n",
      "C:/soft/bb/MusicGenerator/midi\\ToeJam & Earl\\BigEarlBumpV2.mid\n"
     ]
    },
    {
     "name": "stderr",
     "output_type": "stream",
     "text": [
      "C:\\Users\\rajta\\anaconda3\\lib\\site-packages\\music21\\midi\\translate.py:790: TranslateWarning: Unable to determine instrument from <music21.midi.MidiEvent PROGRAM_CHANGE, track=7, channel=10, data=32>; getting generic UnpitchedPercussion\n",
      "  warnings.warn(\n",
      "C:\\Users\\rajta\\anaconda3\\lib\\site-packages\\music21\\midi\\translate.py:790: TranslateWarning: Unable to determine instrument from <music21.midi.MidiEvent PROGRAM_CHANGE, track=7, channel=10, data=24>; getting generic UnpitchedPercussion\n",
      "  warnings.warn(\n",
      "C:\\Users\\rajta\\anaconda3\\lib\\site-packages\\music21\\midi\\translate.py:790: TranslateWarning: Unable to determine instrument from <music21.midi.MidiEvent PROGRAM_CHANGE, track=8, channel=10, data=32>; getting generic UnpitchedPercussion\n",
      "  warnings.warn(\n",
      "C:\\Users\\rajta\\anaconda3\\lib\\site-packages\\music21\\midi\\translate.py:790: TranslateWarning: Unable to determine instrument from <music21.midi.MidiEvent PROGRAM_CHANGE, track=8, channel=10, data=24>; getting generic UnpitchedPercussion\n",
      "  warnings.warn(\n"
     ]
    },
    {
     "name": "stdout",
     "output_type": "stream",
     "text": [
      "C:/soft/bb/MusicGenerator/midi\\Tokimeki Memorial\\AltWinterTokimekiByCryogen.mid\n"
     ]
    },
    {
     "name": "stderr",
     "output_type": "stream",
     "text": [
      "C:\\Users\\rajta\\anaconda3\\lib\\site-packages\\music21\\midi\\translate.py:790: TranslateWarning: Unable to determine instrument from <music21.midi.MidiEvent PROGRAM_CHANGE, track=7, channel=10, data=0>; getting generic UnpitchedPercussion\n",
      "  warnings.warn(\n"
     ]
    },
    {
     "name": "stdout",
     "output_type": "stream",
     "text": [
      "C:/soft/bb/MusicGenerator/midi\\Tokimeki Memorial (Japan)\\SNES_Toki_Memo_Art_Gallery.mid\n",
      "C:/soft/bb/MusicGenerator/midi\\Tokimeki Memorial 3 (Japan)\\PS2_Toki_Memo_3_Cherry_Blossoms.mid\n",
      "C:/soft/bb/MusicGenerator/midi\\Tokyo Highway Battle\\Driftking_Menu-sc.mid\n"
     ]
    },
    {
     "name": "stderr",
     "output_type": "stream",
     "text": [
      "C:\\Users\\rajta\\anaconda3\\lib\\site-packages\\music21\\midi\\translate.py:790: TranslateWarning: Unable to determine instrument from <music21.midi.MidiEvent PROGRAM_CHANGE, track=10, channel=10, data=8>; getting generic UnpitchedPercussion\n",
      "  warnings.warn(\n"
     ]
    },
    {
     "name": "stdout",
     "output_type": "stream",
     "text": [
      "C:/soft/bb/MusicGenerator/midi\\Tokyo Xtreme Racer 3\\Tokyoxtremeracer3_Logan812_volcano.mid\n",
      "C:/soft/bb/MusicGenerator/midi\\Tokyo Xtreme Racer Zero\\Tokyoxtremeracer0_Logan812_jade_runs.mid\n",
      "C:/soft/bb/MusicGenerator/midi\\Tom Sawyer\\TomSawyer-L1.mid\n",
      "C:/soft/bb/MusicGenerator/midi\\Tomarunner vs L'arc-en-ciel\\dreams.mid\n"
     ]
    },
    {
     "name": "stderr",
     "output_type": "stream",
     "text": [
      "C:\\Users\\rajta\\anaconda3\\lib\\site-packages\\music21\\midi\\translate.py:790: TranslateWarning: Unable to determine instrument from <music21.midi.MidiEvent PROGRAM_CHANGE, track=2, channel=10, data=0>; getting generic UnpitchedPercussion\n",
      "  warnings.warn(\n"
     ]
    },
    {
     "name": "stdout",
     "output_type": "stream",
     "text": [
      "C:/soft/bb/MusicGenerator/midi\\Tomato Adventure (Japan)\\hosikage.mid\n",
      "C:/soft/bb/MusicGenerator/midi\\Tomb Raider\\croft.mid\n",
      "C:/soft/bb/MusicGenerator/midi\\Tomb Raider II\\27_-_Level_End.mid\n",
      "C:/soft/bb/MusicGenerator/midi\\Tomb Raider III\\jungle_bike.mid\n",
      "C:/soft/bb/MusicGenerator/midi\\Tomb Raider_ The Last Revelation\\Song_004.mid\n",
      "C:/soft/bb/MusicGenerator/midi\\Tomba\\Tomba-dirt_motocross.mid\n"
     ]
    },
    {
     "name": "stderr",
     "output_type": "stream",
     "text": [
      "C:\\Users\\rajta\\anaconda3\\lib\\site-packages\\music21\\midi\\translate.py:790: TranslateWarning: Unable to determine instrument from <music21.midi.MidiEvent PROGRAM_CHANGE, track=7, channel=10, data=4>; getting generic UnpitchedPercussion\n",
      "  warnings.warn(\n"
     ]
    },
    {
     "name": "stdout",
     "output_type": "stream",
     "text": [
      "C:/soft/bb/MusicGenerator/midi\\Tombs and Treasure\\t&t_wltz.mid\n",
      "C:/soft/bb/MusicGenerator/midi\\Tooth Protectors\\toothprotectors.mid\n",
      "C:/soft/bb/MusicGenerator/midi\\Top Gear\\TakeItToTheTopGearSyniKal.mid\n",
      "C:/soft/bb/MusicGenerator/midi\\Top Gear 2\\MrRK_-_Top_Gear_2_-_Track_1.mid\n",
      "C:/soft/bb/MusicGenerator/midi\\Top Gear 3000\\topgear3000fristrace.mid\n",
      "C:/soft/bb/MusicGenerator/midi\\Top Gun\\TopGun-demo.mid\n",
      "C:/soft/bb/MusicGenerator/midi\\Top Gun_ The Second Mission\\tg2-2.mid\n",
      "C:/soft/bb/MusicGenerator/midi\\Torvak the Warrior\\torvak.mid\n",
      "C:/soft/bb/MusicGenerator/midi\\Total Recall\\trecall.mid\n"
     ]
    },
    {
     "name": "stderr",
     "output_type": "stream",
     "text": [
      "C:\\Users\\rajta\\anaconda3\\lib\\site-packages\\music21\\midi\\translate.py:790: TranslateWarning: Unable to determine instrument from <music21.midi.MidiEvent PROGRAM_CHANGE, track=8, channel=10, data=119>; getting generic UnpitchedPercussion\n",
      "  warnings.warn(\n"
     ]
    },
    {
     "name": "stdout",
     "output_type": "stream",
     "text": [
      "C:/soft/bb/MusicGenerator/midi\\Touhou 10_ Mountain of Faith\\nativefaithrepeat2.mid\n"
     ]
    },
    {
     "name": "stderr",
     "output_type": "stream",
     "text": [
      "C:\\Users\\rajta\\anaconda3\\lib\\site-packages\\music21\\midi\\translate.py:790: TranslateWarning: Unable to determine instrument from <music21.midi.MidiEvent PROGRAM_CHANGE, track=3, channel=10, data=0>; getting generic UnpitchedPercussion\n",
      "  warnings.warn(\n"
     ]
    },
    {
     "name": "stdout",
     "output_type": "stream",
     "text": [
      "C:/soft/bb/MusicGenerator/midi\\Touhou 12_ Undefined Fantastic Object\\th12_ex_boss.mid\n"
     ]
    },
    {
     "name": "stderr",
     "output_type": "stream",
     "text": [
      "C:\\Users\\rajta\\anaconda3\\lib\\site-packages\\music21\\midi\\translate.py:785: TranslateWarning: Unable to determine instrument from <music21.midi.MidiEvent SEQUENCE_TRACK_NAME, track=0, channel=None, data=b'\\x95\\xbd\\x88\\xc0\\x82\\xcc\\x83G\\x83C\\x83\\x8a\\x83A\\x83\\x93 ~ Heian Alien'>; getting generic Instrument\n",
      "  warnings.warn(\n",
      "C:\\Users\\rajta\\anaconda3\\lib\\site-packages\\music21\\midi\\translate.py:790: TranslateWarning: Unable to determine instrument from <music21.midi.MidiEvent PROGRAM_CHANGE, track=14, channel=10, data=4>; getting generic UnpitchedPercussion\n",
      "  warnings.warn(\n"
     ]
    },
    {
     "name": "stdout",
     "output_type": "stream",
     "text": [
      "C:/soft/bb/MusicGenerator/midi\\Touhou 6_ Embodiment of Scarlet Devil\\TH6ESOD_-_UNOwen.mid\n",
      "C:/soft/bb/MusicGenerator/midi\\Touhou 7_ Perfect Cherry Blossom\\touhou_7_phantasm_boss_yukari.mid\n"
     ]
    },
    {
     "name": "stderr",
     "output_type": "stream",
     "text": [
      "C:\\Users\\rajta\\anaconda3\\lib\\site-packages\\music21\\midi\\translate.py:790: TranslateWarning: Unable to determine instrument from <music21.midi.MidiEvent PROGRAM_CHANGE, track=9, channel=10, data=0>; getting generic UnpitchedPercussion\n",
      "  warnings.warn(\n"
     ]
    },
    {
     "name": "stdout",
     "output_type": "stream",
     "text": [
      "C:/soft/bb/MusicGenerator/midi\\Touhou 8_ Imperishable Night\\touhou_8_stage1_boss_wriggle.mid\n",
      "C:/soft/bb/MusicGenerator/midi\\Toy Bizzare\\toybizzr.mid\n",
      "C:/soft/bb/MusicGenerator/midi\\Track & Field 2\\tf2-olymintro.mid\n",
      "C:/soft/bb/MusicGenerator/midi\\Traffic Department 2192\\TD2192_Conversation-quick_MOOD2.mid\n"
     ]
    },
    {
     "name": "stderr",
     "output_type": "stream",
     "text": [
      "C:\\Users\\rajta\\anaconda3\\lib\\site-packages\\music21\\midi\\translate.py:790: TranslateWarning: Unable to determine instrument from <music21.midi.MidiEvent PROGRAM_CHANGE, track=4, channel=10, data=8>; getting generic UnpitchedPercussion\n",
      "  warnings.warn(\n"
     ]
    },
    {
     "name": "stdout",
     "output_type": "stream",
     "text": [
      "C:/soft/bb/MusicGenerator/midi\\Transbot\\Transbot-Base.mid\n",
      "C:/soft/bb/MusicGenerator/midi\\Transformers_ Mystery of Optimus Prime (Japan)\\trns_102-trns.mid\n",
      "C:/soft/bb/MusicGenerator/midi\\Trap\\trap.mid\n",
      "C:/soft/bb/MusicGenerator/midi\\Trauma Center_ Under the Knife\\squidwardfad.mid\n",
      "C:/soft/bb/MusicGenerator/midi\\Trauma Centre_ New Blood\\tcnb-operationtheme2.mid\n"
     ]
    },
    {
     "name": "stderr",
     "output_type": "stream",
     "text": [
      "C:\\Users\\rajta\\anaconda3\\lib\\site-packages\\music21\\midi\\translate.py:790: TranslateWarning: Unable to determine instrument from <music21.midi.MidiEvent PROGRAM_CHANGE, track=13, channel=10, data=0>; getting generic UnpitchedPercussion\n",
      "  warnings.warn(\n"
     ]
    },
    {
     "name": "stdout",
     "output_type": "stream",
     "text": [
      "C:/soft/bb/MusicGenerator/midi\\Trauma Team\\traumateam_lostrosalia.mid\n",
      "C:/soft/bb/MusicGenerator/midi\\Treasure Hunter G\\thg-absence2.mid\n"
     ]
    },
    {
     "name": "stderr",
     "output_type": "stream",
     "text": [
      "C:\\Users\\rajta\\anaconda3\\lib\\site-packages\\music21\\midi\\translate.py:790: TranslateWarning: Unable to determine instrument from <music21.midi.MidiEvent PROGRAM_CHANGE, track=8, channel=10, data=0>; getting generic UnpitchedPercussion\n",
      "  warnings.warn(\n"
     ]
    },
    {
     "name": "stdout",
     "output_type": "stream",
     "text": [
      "C:/soft/bb/MusicGenerator/midi\\Treasure Master\\treasure_master_-_title_theme.mid\n"
     ]
    },
    {
     "name": "stderr",
     "output_type": "stream",
     "text": [
      "C:\\Users\\rajta\\anaconda3\\lib\\site-packages\\music21\\midi\\translate.py:790: TranslateWarning: Unable to determine instrument from <music21.midi.MidiEvent PROGRAM_CHANGE, track=5, channel=10, data=16>; getting generic UnpitchedPercussion\n",
      "  warnings.warn(\n"
     ]
    },
    {
     "name": "stdout",
     "output_type": "stream",
     "text": [
      "C:/soft/bb/MusicGenerator/midi\\Treasure of Usas\\usas_st2.mid\n",
      "C:/soft/bb/MusicGenerator/midi\\Trine\\PS3__Trine__Trailer.mid\n",
      "C:/soft/bb/MusicGenerator/midi\\Troddlers\\troddlers_-_crossed.mid\n",
      "C:/soft/bb/MusicGenerator/midi\\Troggle Trouble Math\\trog1.mid\n",
      "C:/soft/bb/MusicGenerator/midi\\Trojan\\troj-sew.mid\n",
      "C:/soft/bb/MusicGenerator/midi\\Trolls\\BL_trolls_levelselect.mid\n"
     ]
    },
    {
     "name": "stderr",
     "output_type": "stream",
     "text": [
      "C:\\Users\\rajta\\anaconda3\\lib\\site-packages\\music21\\midi\\translate.py:790: TranslateWarning: Unable to determine instrument from <music21.midi.MidiEvent PROGRAM_CHANGE, track=7, channel=10, data=25>; getting generic UnpitchedPercussion\n",
      "  warnings.warn(\n"
     ]
    },
    {
     "name": "stdout",
     "output_type": "stream",
     "text": [
      "C:/soft/bb/MusicGenerator/midi\\Tron Solar Sailer\\Tron_Solar_Sailer.mid\n",
      "C:/soft/bb/MusicGenerator/midi\\Trouble Shooter\\BM-eplg.mid\n",
      "C:/soft/bb/MusicGenerator/midi\\True Love\\truelove.mid\n",
      "C:/soft/bb/MusicGenerator/midi\\Truxton\\TruxtionBoss.mid\n",
      "C:/soft/bb/MusicGenerator/midi\\TS Online\\TSboss.mid\n"
     ]
    },
    {
     "name": "stderr",
     "output_type": "stream",
     "text": [
      "C:\\Users\\rajta\\anaconda3\\lib\\site-packages\\music21\\midi\\translate.py:790: TranslateWarning: Unable to determine instrument from <music21.midi.MidiEvent PROGRAM_CHANGE, track=9, channel=10, data=24>; getting generic UnpitchedPercussion\n",
      "  warnings.warn(\n",
      "C:\\Users\\rajta\\anaconda3\\lib\\site-packages\\music21\\midi\\translate.py:790: TranslateWarning: Unable to determine instrument from <music21.midi.MidiEvent PROGRAM_CHANGE, track=10, channel=10, data=24>; getting generic UnpitchedPercussion\n",
      "  warnings.warn(\n",
      "C:\\Users\\rajta\\anaconda3\\lib\\site-packages\\music21\\midi\\translate.py:790: TranslateWarning: Unable to determine instrument from <music21.midi.MidiEvent PROGRAM_CHANGE, track=11, channel=10, data=24>; getting generic UnpitchedPercussion\n",
      "  warnings.warn(\n",
      "C:\\Users\\rajta\\anaconda3\\lib\\site-packages\\music21\\midi\\translate.py:790: TranslateWarning: Unable to determine instrument from <music21.midi.MidiEvent PROGRAM_CHANGE, track=12, channel=10, data=24>; getting generic UnpitchedPercussion\n",
      "  warnings.warn(\n",
      "C:\\Users\\rajta\\anaconda3\\lib\\site-packages\\music21\\midi\\translate.py:790: TranslateWarning: Unable to determine instrument from <music21.midi.MidiEvent PROGRAM_CHANGE, track=13, channel=10, data=24>; getting generic UnpitchedPercussion\n",
      "  warnings.warn(\n"
     ]
    },
    {
     "name": "stdout",
     "output_type": "stream",
     "text": [
      "C:/soft/bb/MusicGenerator/midi\\Tsubasa Chronicle (Japan)\\08_A_ship_of_fools.mid\n",
      "C:/soft/bb/MusicGenerator/midi\\Tunnel B1\\Tunnel-gs.mid\n",
      "C:/soft/bb/MusicGenerator/midi\\Tunnel Runner\\TunnelRunner-Death1.mid\n",
      "C:/soft/bb/MusicGenerator/midi\\Turbo OutRun\\TOUTRUN1.mid\n",
      "C:/soft/bb/MusicGenerator/midi\\Turok 2\\Adontheme.mid\n",
      "C:/soft/bb/MusicGenerator/midi\\Turok 3_ Shadow Of Oblivion\\Turok3-OmicronCrimson.mid\n",
      "C:/soft/bb/MusicGenerator/midi\\Turrican\\Amiga_Turrican_Title.mid\n"
     ]
    },
    {
     "name": "stderr",
     "output_type": "stream",
     "text": [
      "C:\\Users\\rajta\\anaconda3\\lib\\site-packages\\music21\\midi\\translate.py:785: TranslateWarning: Unable to determine instrument from <music21.midi.MidiEvent SEQUENCE_TRACK_NAME, track=6, channel=None, data=b'Chris H\\xfclsbeck'>; getting generic Instrument\n",
      "  warnings.warn(\n"
     ]
    },
    {
     "name": "stdout",
     "output_type": "stream",
     "text": [
      "C:/soft/bb/MusicGenerator/midi\\Turrican 2\\c_laser.mid\n"
     ]
    },
    {
     "name": "stderr",
     "output_type": "stream",
     "text": [
      "C:\\Users\\rajta\\anaconda3\\lib\\site-packages\\music21\\midi\\translate.py:790: TranslateWarning: Unable to determine instrument from <music21.midi.MidiEvent PROGRAM_CHANGE, track=9, channel=10, data=16>; getting generic UnpitchedPercussion\n",
      "  warnings.warn(\n"
     ]
    },
    {
     "name": "stdout",
     "output_type": "stream",
     "text": [
      "C:/soft/bb/MusicGenerator/midi\\Turrican 3\\oTurr3-0.mid\n",
      "C:/soft/bb/MusicGenerator/midi\\Turtles\\Turtles.mid\n",
      "C:/soft/bb/MusicGenerator/midi\\Tutankham\\Tutankham.mid\n",
      "C:/soft/bb/MusicGenerator/midi\\TV Sports Football\\TVSportsFootballCoin.mid\n"
     ]
    },
    {
     "name": "stderr",
     "output_type": "stream",
     "text": [
      "C:\\Users\\rajta\\anaconda3\\lib\\site-packages\\music21\\midi\\translate.py:790: TranslateWarning: Unable to determine instrument from <music21.midi.MidiEvent PROGRAM_CHANGE, track=4, channel=10, data=0>; getting generic UnpitchedPercussion\n",
      "  warnings.warn(\n"
     ]
    },
    {
     "name": "stdout",
     "output_type": "stream",
     "text": [
      "C:/soft/bb/MusicGenerator/midi\\Twilight Memory\\Twilight_Memory_Opening_J-vibe_and_Weasel_Man.mid\n"
     ]
    },
    {
     "name": "stderr",
     "output_type": "stream",
     "text": [
      "C:\\Users\\rajta\\anaconda3\\lib\\site-packages\\music21\\midi\\translate.py:790: TranslateWarning: Unable to determine instrument from <music21.midi.MidiEvent PROGRAM_CHANGE, track=0, channel=10, data=8>; getting generic UnpitchedPercussion\n",
      "  warnings.warn(\n"
     ]
    },
    {
     "name": "stdout",
     "output_type": "stream",
     "text": [
      "C:/soft/bb/MusicGenerator/midi\\Twin Cobra\\Tcstage1.mid\n"
     ]
    },
    {
     "name": "stderr",
     "output_type": "stream",
     "text": [
      "C:\\Users\\rajta\\anaconda3\\lib\\site-packages\\music21\\midi\\translate.py:785: TranslateWarning: Unable to determine instrument from <music21.midi.MidiEvent SEQUENCE_TRACK_NAME, track=7, channel=None, data=b'\\xa9 1987, 1989 Toaplan/Taito'>; getting generic Instrument\n",
      "  warnings.warn(\n"
     ]
    },
    {
     "name": "stdout",
     "output_type": "stream",
     "text": [
      "C:/soft/bb/MusicGenerator/midi\\Twinbee\\Twinbee_-_StageBGM.mid\n",
      "C:/soft/bb/MusicGenerator/midi\\Twinbee_ Rainbow Bell Adventure\\B1L_twin2_area6a.mid\n",
      "C:/soft/bb/MusicGenerator/midi\\Twinkle Tail (Japan)\\Twinkle_Tail_Tr6.mid\n",
      "C:/soft/bb/MusicGenerator/midi\\Twisted Metal 4\\Neon_City_Theme.mid\n",
      "C:/soft/bb/MusicGenerator/midi\\Twisted Tales of Spike McFang, The\\Mcfang-FighterIsland.mid\n",
      "C:/soft/bb/MusicGenerator/midi\\Ty the Tasmanian Tiger 2_ Bush Rescue\\battle.mid\n",
      "C:/soft/bb/MusicGenerator/midi\\Tyrian\\Camanis.mid\n",
      "C:/soft/bb/MusicGenerator/midi\\U N  Squadron\\a88canyonGM.mid\n",
      "C:/soft/bb/MusicGenerator/midi\\U-Crew\\MainLots.mid\n",
      "C:/soft/bb/MusicGenerator/midi\\Uchuu No Kishi (Japan)\\T_TekkamanGB_Menu.mid\n",
      "C:/soft/bb/MusicGenerator/midi\\Uchuu Race_ Astro Go! Go! (Japan)\\BL_agogo_jet.mid\n",
      "C:/soft/bb/MusicGenerator/midi\\Ufouria_ The Saga\\Hebereke-Boss1.mid\n",
      "C:/soft/bb/MusicGenerator/midi\\UFO_ Enemy Unknown\\interceptor.mid\n",
      "C:/soft/bb/MusicGenerator/midi\\Ultima III\\castles3.mid\n",
      "C:/soft/bb/MusicGenerator/midi\\Ultima IV\\castles4.mid\n",
      "C:/soft/bb/MusicGenerator/midi\\Ultima Online\\crBritain.mid\n",
      "C:/soft/bb/MusicGenerator/midi\\Ultima V\\belowexp.mid\n",
      "C:/soft/bb/MusicGenerator/midi\\Ultima VI\\u6menu-arrangement.mid\n",
      "C:/soft/bb/MusicGenerator/midi\\Ultima VI_ The False Prophet\\u6melee.mid\n",
      "C:/soft/bb/MusicGenerator/midi\\Ultimate Mortal Kombat 3\\CharacterSelect1.mid\n",
      "C:/soft/bb/MusicGenerator/midi\\Ultima_ Exodus\\ambrosia.mid\n",
      "C:/soft/bb/MusicGenerator/midi\\Ultima_ Quest of the Avatar\\Bard'sMelody.mid\n",
      "C:/soft/bb/MusicGenerator/midi\\Ultima_ The Black Gate\\u7indoors.mid\n",
      "C:/soft/bb/MusicGenerator/midi\\Ultima_ Warriors of Destiny\\uwd_main.mid\n",
      "C:/soft/bb/MusicGenerator/midi\\Um Jammer Lammy\\GotToMove.mid\n",
      "C:/soft/bb/MusicGenerator/midi\\Umi Hara Kawa Se (Japan)\\UK_-_Mighty_Deep.mid\n",
      "C:/soft/bb/MusicGenerator/midi\\Uncharted Waters_ New Horizons\\UWNH_Sorrow.mid\n",
      "C:/soft/bb/MusicGenerator/midi\\Undertale\\05_-_Ruins.mid\n",
      "C:/soft/bb/MusicGenerator/midi\\Uninvited\\UninMix.mid\n",
      "C:/soft/bb/MusicGenerator/midi\\Uniracers\\Uni.Race5.mid\n",
      "C:/soft/bb/MusicGenerator/midi\\Universal Chaos\\UniversalChaos.mid\n",
      "C:/soft/bb/MusicGenerator/midi\\Unlimited Saga\\battletheme1.mid\n",
      "C:/soft/bb/MusicGenerator/midi\\Unreal\\warlord.mid\n",
      "C:/soft/bb/MusicGenerator/midi\\Unreal Tournament\\UnrealTournament-Run.mid\n",
      "C:/soft/bb/MusicGenerator/midi\\Up & Down\\Up_n_down_Remix.mid\n",
      "C:/soft/bb/MusicGenerator/midi\\Urbz, The_ Sims in The City\\jail2.mid\n"
     ]
    },
    {
     "name": "stderr",
     "output_type": "stream",
     "text": [
      "C:\\Users\\rajta\\anaconda3\\lib\\site-packages\\music21\\midi\\translate.py:790: TranslateWarning: Unable to determine instrument from <music21.midi.MidiEvent PROGRAM_CHANGE, track=0, channel=10, data=25>; getting generic UnpitchedPercussion\n",
      "  warnings.warn(\n"
     ]
    },
    {
     "name": "stdout",
     "output_type": "stream",
     "text": [
      "C:/soft/bb/MusicGenerator/midi\\Uridium\\uridium.mid\n",
      "C:/soft/bb/MusicGenerator/midi\\USA Ice Hockey (Japan)\\BL_psh_gameplay_3.mid\n"
     ]
    },
    {
     "name": "stderr",
     "output_type": "stream",
     "text": [
      "C:\\Users\\rajta\\anaconda3\\lib\\site-packages\\music21\\midi\\translate.py:790: TranslateWarning: Unable to determine instrument from <music21.midi.MidiEvent PROGRAM_CHANGE, track=10, channel=10, data=1>; getting generic UnpitchedPercussion\n",
      "  warnings.warn(\n"
     ]
    },
    {
     "name": "stdout",
     "output_type": "stream",
     "text": [
      "C:/soft/bb/MusicGenerator/midi\\Usagi Yojimbo\\usagi.mid\n",
      "C:/soft/bb/MusicGenerator/midi\\V  G  Neo\\T_VariableGeoNEO_MyHome.mid\n",
      "C:/soft/bb/MusicGenerator/midi\\Vagrant Story\\Vagrant_Story_Undercity_DW.mid\n",
      "C:/soft/bb/MusicGenerator/midi\\Valis 2\\Valis2_5.mid\n"
     ]
    },
    {
     "name": "stderr",
     "output_type": "stream",
     "text": [
      "C:\\Users\\rajta\\anaconda3\\lib\\site-packages\\music21\\midi\\translate.py:785: TranslateWarning: Unable to determine instrument from <music21.midi.MidiEvent SEQUENCE_TRACK_NAME, track=0, channel=None, data=b'\\x81uACT 5\\x81v from \\x83\\x94\\x83@\\x83\\x8a\\x83X\\x87U by \\x93y\\xe0V\\x81@\\x97\\xb4\\x96\\xe7'>; getting generic Instrument\n",
      "  warnings.warn(\n"
     ]
    },
    {
     "name": "stdout",
     "output_type": "stream",
     "text": [
      "C:/soft/bb/MusicGenerator/midi\\Valkyrie Profile\\behave.mid\n",
      "C:/soft/bb/MusicGenerator/midi\\Valkyrie Profile 2_ Silmeria\\vp2_battletheme.mid\n",
      "C:/soft/bb/MusicGenerator/midi\\Vampire Hunter_ Darkstalkers' Revenge\\demitri.mid\n"
     ]
    },
    {
     "name": "stderr",
     "output_type": "stream",
     "text": [
      "C:\\Users\\rajta\\anaconda3\\lib\\site-packages\\music21\\midi\\translate.py:785: TranslateWarning: Unable to determine instrument from <music21.midi.MidiEvent SEQUENCE_TRACK_NAME, track=0, channel=None, data=b'\\x8et\\x8ff\\x82\\xcc\\x90\\xa2\\x8aE Demitri Stage VAMPIRE HUNTER                         '>; getting generic Instrument\n",
      "  warnings.warn(\n",
      "C:\\Users\\rajta\\anaconda3\\lib\\site-packages\\music21\\midi\\translate.py:790: TranslateWarning: Unable to determine instrument from <music21.midi.MidiEvent PROGRAM_CHANGE, track=0, channel=10, data=0>; getting generic UnpitchedPercussion\n",
      "  warnings.warn(\n",
      "C:\\Users\\rajta\\anaconda3\\lib\\site-packages\\music21\\midi\\translate.py:790: TranslateWarning: Unable to determine instrument from <music21.midi.MidiEvent PROGRAM_CHANGE, track=0, channel=10, data=13>; getting generic UnpitchedPercussion\n",
      "  warnings.warn(\n"
     ]
    },
    {
     "name": "stdout",
     "output_type": "stream",
     "text": [
      "C:/soft/bb/MusicGenerator/midi\\Vampire Killer\\poison_mind_(piano_loop)_(by_S._Kashgari).mid\n",
      "C:/soft/bb/MusicGenerator/midi\\Vampire Savior\\vsbbrap.mid\n"
     ]
    },
    {
     "name": "stderr",
     "output_type": "stream",
     "text": [
      "C:\\Users\\rajta\\anaconda3\\lib\\site-packages\\music21\\midi\\translate.py:785: TranslateWarning: Unable to determine instrument from <music21.midi.MidiEvent SEQUENCE_TRACK_NAME, track=0, channel=None, data=b'\\x8et\\x8ff\\x82\\xcc\\x90\\xa2\\x8aE \\x82\\xa0\\x82\\xbd\\x82\\xb5\\x82\\xcd \\x82\\xe6\\x82\\xa2\\x82\\xb1 VAMPIRE SAVIOR                       '>; getting generic Instrument\n",
      "  warnings.warn(\n"
     ]
    },
    {
     "name": "stdout",
     "output_type": "stream",
     "text": [
      "C:/soft/bb/MusicGenerator/midi\\Vampire Savior   Dark Stalkers 3\\war_agony.mid\n",
      "C:/soft/bb/MusicGenerator/midi\\Vandal Hearts\\Vandal_Hearts_Battle_In_town.mid\n",
      "C:/soft/bb/MusicGenerator/midi\\Vanguard\\Vanguard.mid\n",
      "C:/soft/bb/MusicGenerator/midi\\Vanguard Bandits\\vb2.mid\n",
      "C:/soft/bb/MusicGenerator/midi\\Vapor Trail (Japan)\\VaporTrail_STAGE_1.mid\n",
      "C:/soft/bb/MusicGenerator/midi\\Vay\\vay-Event.mid\n",
      "C:/soft/bb/MusicGenerator/midi\\Vectorman\\Disco.mid\n",
      "C:/soft/bb/MusicGenerator/midi\\Vectorman 2\\VECTORMAN2FINALBOSS.mid\n",
      "C:/soft/bb/MusicGenerator/midi\\Vegas Dream\\Vegas_Dream_-_Black_Jack.mid\n",
      "C:/soft/bb/MusicGenerator/midi\\Vegas Stakes\\VegasStakes_TheHideout.mid\n",
      "C:/soft/bb/MusicGenerator/midi\\Venture\\2-HeadRm.mid\n",
      "C:/soft/bb/MusicGenerator/midi\\Venus the Flytrap\\Venusfin.mid\n",
      "C:/soft/bb/MusicGenerator/midi\\Venus Wars (Japan)\\Ven_end.mid\n",
      "C:/soft/bb/MusicGenerator/midi\\Verytex\\verytex.mid\n"
     ]
    },
    {
     "name": "stderr",
     "output_type": "stream",
     "text": [
      "C:\\Users\\rajta\\anaconda3\\lib\\site-packages\\music21\\midi\\translate.py:790: TranslateWarning: Unable to determine instrument from <music21.midi.MidiEvent PROGRAM_CHANGE, track=2, channel=10, data=16>; getting generic UnpitchedPercussion\n",
      "  warnings.warn(\n",
      "C:\\Users\\rajta\\anaconda3\\lib\\site-packages\\music21\\midi\\translate.py:790: TranslateWarning: Unable to determine instrument from <music21.midi.MidiEvent PROGRAM_CHANGE, track=2, channel=10, data=24>; getting generic UnpitchedPercussion\n",
      "  warnings.warn(\n"
     ]
    },
    {
     "name": "stdout",
     "output_type": "stream",
     "text": [
      "C:/soft/bb/MusicGenerator/midi\\Video Jogger\\VideoJogger.mid\n",
      "C:/soft/bb/MusicGenerator/midi\\Video Reflex\\VideoReflex.mid\n",
      "C:/soft/bb/MusicGenerator/midi\\Viewpoint\\viewpoint.mid\n",
      "C:/soft/bb/MusicGenerator/midi\\Viewtiful Joe\\Viewtiful_Joe-Stage_2-2.mid\n",
      "C:/soft/bb/MusicGenerator/midi\\Vigilante\\Vigilante-Ending.mid\n",
      "C:/soft/bb/MusicGenerator/midi\\Virtua Cop\\Vcop_bs5.mid\n",
      "C:/soft/bb/MusicGenerator/midi\\Virtua Fighter 2\\ADVTIZE.mid\n"
     ]
    },
    {
     "name": "stderr",
     "output_type": "stream",
     "text": [
      "C:\\Users\\rajta\\anaconda3\\lib\\site-packages\\music21\\midi\\translate.py:785: TranslateWarning: Unable to determine instrument from <music21.midi.MidiEvent SEQUENCE_TRACK_NAME, track=0, channel=None, data=b'\\x89\\x89\\x95\\x90\\x81@\\x81`\\x90V\\x82\\xbd\\x82\\xc8\\x82\\xe9\\x92\\xa7\\x90\\xed\\x82\\xcc\\x82\\xcd\\x82\\xb6\\x82\\xdc\\x82\\xe8\\x81` -VF2 Advertize-        by Hatsu'>; getting generic Instrument\n",
      "  warnings.warn(\n"
     ]
    },
    {
     "name": "stdout",
     "output_type": "stream",
     "text": [
      "C:/soft/bb/MusicGenerator/midi\\Virtua Fighter 3\\TEDIUM.mid\n",
      "C:/soft/bb/MusicGenerator/midi\\Virtua Fighter 4\\Wolf_Nightmare.mid\n",
      "C:/soft/bb/MusicGenerator/midi\\Virtua Racing\\vr-start.mid\n",
      "C:/soft/bb/MusicGenerator/midi\\Virtua Racing Deluxe\\bman_32x_virtuaracingdeluxe_replay.mid\n",
      "C:/soft/bb/MusicGenerator/midi\\Virtua Tennis\\VirtuaTennisBeginningaDestiny.mid\n",
      "C:/soft/bb/MusicGenerator/midi\\Virtual On 2_ Oratario Tangram\\temjin.mid\n"
     ]
    },
    {
     "name": "stderr",
     "output_type": "stream",
     "text": [
      "C:\\Users\\rajta\\anaconda3\\lib\\site-packages\\music21\\midi\\translate.py:785: TranslateWarning: Unable to determine instrument from <music21.midi.MidiEvent SEQUENCE_TRACK_NAME, track=0, channel=None, data=b'OratorioTangerm[Temjin] \\x83f\\x81[\\x83^\\x90\\xbb\\x8d\\xec\\x81F\\x8e\\x87\\x93\\xf1\\x95S '>; getting generic Instrument\n",
      "  warnings.warn(\n"
     ]
    },
    {
     "name": "stdout",
     "output_type": "stream",
     "text": [
      "C:/soft/bb/MusicGenerator/midi\\Virtual On_ Cyber Troopers\\Apharmd.mid\n",
      "C:/soft/bb/MusicGenerator/midi\\Viva Piñata\\Day_10-.mid\n",
      "C:/soft/bb/MusicGenerator/midi\\Viz\\Viz.mid\n"
     ]
    },
    {
     "name": "stderr",
     "output_type": "stream",
     "text": [
      "C:\\Users\\rajta\\anaconda3\\lib\\site-packages\\music21\\midi\\translate.py:790: TranslateWarning: Unable to determine instrument from <music21.midi.MidiEvent PROGRAM_CHANGE, track=5, channel=10, data=24>; getting generic UnpitchedPercussion\n",
      "  warnings.warn(\n"
     ]
    },
    {
     "name": "stdout",
     "output_type": "stream",
     "text": [
      "C:/soft/bb/MusicGenerator/midi\\Volleyfire\\gk-vfmusicc.mid\n",
      "C:/soft/bb/MusicGenerator/midi\\Vortex\\BL_vortex_menu.mid\n",
      "C:/soft/bb/MusicGenerator/midi\\Vs  Excitebike\\VsExcitebike3.mid\n",
      "C:/soft/bb/MusicGenerator/midi\\Vyper\\Nice.mid\n",
      "C:/soft/bb/MusicGenerator/midi\\W  A  R\\war.mid\n",
      "C:/soft/bb/MusicGenerator/midi\\Wagyan Paradise (Japan)\\Avalanche.mid\n",
      "C:/soft/bb/MusicGenerator/midi\\Wai Wai World\\KW-escp.mid\n",
      "C:/soft/bb/MusicGenerator/midi\\Wai Wai World 2 (Japan)\\T_WaiWaiWorld2_EndLevel.mid\n",
      "C:/soft/bb/MusicGenerator/midi\\Wakfu\\t01.mid\n",
      "C:/soft/bb/MusicGenerator/midi\\Wall Street Kid\\wallstreetintro.mid\n",
      "C:/soft/bb/MusicGenerator/midi\\Walt Disney World Quest\\wdwqmrtds.mid\n",
      "C:/soft/bb/MusicGenerator/midi\\Walt Disney World Quest_ Magical Racing Tour\\WDWMRT-POFC.mid\n",
      "C:/soft/bb/MusicGenerator/midi\\War 2410\\WAR_2410_song_4_By_Joel.mid\n",
      "C:/soft/bb/MusicGenerator/midi\\War Gods\\wgahaukn.mid\n",
      "C:/soft/bb/MusicGenerator/midi\\War of Nerves!\\WarNerves.mid\n",
      "C:/soft/bb/MusicGenerator/midi\\War of the Ring, The\\anorien.mid\n",
      "C:/soft/bb/MusicGenerator/midi\\Warcraft II\\Human1gm.mid\n",
      "C:/soft/bb/MusicGenerator/midi\\Warhawk\\warhawk.mid\n"
     ]
    },
    {
     "name": "stderr",
     "output_type": "stream",
     "text": [
      "C:\\Users\\rajta\\anaconda3\\lib\\site-packages\\music21\\midi\\translate.py:790: TranslateWarning: Unable to determine instrument from <music21.midi.MidiEvent PROGRAM_CHANGE, track=24, channel=10, data=1>; getting generic UnpitchedPercussion\n",
      "  warnings.warn(\n",
      "C:\\Users\\rajta\\anaconda3\\lib\\site-packages\\music21\\midi\\translate.py:790: TranslateWarning: Unable to determine instrument from <music21.midi.MidiEvent PROGRAM_CHANGE, track=25, channel=10, data=1>; getting generic UnpitchedPercussion\n",
      "  warnings.warn(\n",
      "C:\\Users\\rajta\\anaconda3\\lib\\site-packages\\music21\\midi\\translate.py:790: TranslateWarning: Unable to determine instrument from <music21.midi.MidiEvent PROGRAM_CHANGE, track=26, channel=10, data=1>; getting generic UnpitchedPercussion\n",
      "  warnings.warn(\n",
      "C:\\Users\\rajta\\anaconda3\\lib\\site-packages\\music21\\midi\\translate.py:790: TranslateWarning: Unable to determine instrument from <music21.midi.MidiEvent PROGRAM_CHANGE, track=27, channel=10, data=1>; getting generic UnpitchedPercussion\n",
      "  warnings.warn(\n",
      "C:\\Users\\rajta\\anaconda3\\lib\\site-packages\\music21\\midi\\translate.py:790: TranslateWarning: Unable to determine instrument from <music21.midi.MidiEvent PROGRAM_CHANGE, track=28, channel=10, data=1>; getting generic UnpitchedPercussion\n",
      "  warnings.warn(\n",
      "C:\\Users\\rajta\\anaconda3\\lib\\site-packages\\music21\\midi\\translate.py:790: TranslateWarning: Unable to determine instrument from <music21.midi.MidiEvent PROGRAM_CHANGE, track=29, channel=10, data=1>; getting generic UnpitchedPercussion\n",
      "  warnings.warn(\n"
     ]
    },
    {
     "name": "stdout",
     "output_type": "stream",
     "text": [
      "C:/soft/bb/MusicGenerator/midi\\Wario Blast\\CB_WBBoss.mid\n",
      "C:/soft/bb/MusicGenerator/midi\\Wario Land\\lava.mid\n",
      "C:/soft/bb/MusicGenerator/midi\\Wario Land 2\\mischief.mid\n",
      "C:/soft/bb/MusicGenerator/midi\\Wario Land 3\\A_Town_In_Chaos-DAY.mid\n",
      "C:/soft/bb/MusicGenerator/midi\\Wario Land 4\\Medamayaki.mid\n",
      "C:/soft/bb/MusicGenerator/midi\\Wario Ware Inc\\pyoro.mid\n",
      "C:/soft/bb/MusicGenerator/midi\\Wario Ware Touched!\\Birdcycle.mid\n",
      "C:/soft/bb/MusicGenerator/midi\\Wario World\\Wario_World_-_Greenhorn_Forest.mid\n",
      "C:/soft/bb/MusicGenerator/midi\\Wario's Woods\\Warios-Woods_-_Boss.mid\n",
      "C:/soft/bb/MusicGenerator/midi\\Warioware, Inc  _ Mega Party Game$!\\WarioWare-FruitShoot.mid\n",
      "C:/soft/bb/MusicGenerator/midi\\WarioWare_ Twisted!\\helterskelter.mid\n"
     ]
    },
    {
     "name": "stderr",
     "output_type": "stream",
     "text": [
      "C:\\Users\\rajta\\anaconda3\\lib\\site-packages\\music21\\midi\\translate.py:790: TranslateWarning: Unable to determine instrument from <music21.midi.MidiEvent PROGRAM_CHANGE, track=10, channel=10, data=32>; getting generic UnpitchedPercussion\n",
      "  warnings.warn(\n"
     ]
    },
    {
     "name": "stdout",
     "output_type": "stream",
     "text": [
      "C:/soft/bb/MusicGenerator/midi\\Warp\\Warp_-_Intro.mid\n",
      "C:/soft/bb/MusicGenerator/midi\\Warrior Of Argos\\WarriorofArgos(rygarj)area1.mid\n",
      "C:/soft/bb/MusicGenerator/midi\\Warsong\\Warsongp.mid\n",
      "C:/soft/bb/MusicGenerator/midi\\Wave Race 64\\BL_wr64_score.mid\n",
      "C:/soft/bb/MusicGenerator/midi\\Wave Race_ Blue Storm\\wave_race_blue_storm_-_ocean_city_harbor_sunny.mid\n",
      "C:/soft/bb/MusicGenerator/midi\\Way Of the Exploding Fist\\xf_2p.mid\n",
      "C:/soft/bb/MusicGenerator/midi\\WCW Mayhem\\WCW-Buff_Daddy-ER.mid\n",
      "C:/soft/bb/MusicGenerator/midi\\WCW World Championship Wrestling\\WCW_World_Championship_Wrestling_-_Mode_Select.mid\n",
      "C:/soft/bb/MusicGenerator/midi\\We Love Katamari\\DanDonFugaEggman.mid\n",
      "C:/soft/bb/MusicGenerator/midi\\Weird Dreams\\Weird_Dreams.mid\n",
      "C:/soft/bb/MusicGenerator/midi\\Wendetta 2175\\wendetta.mid\n",
      "C:/soft/bb/MusicGenerator/midi\\Werewolf_ The Last Warrior\\wolf.mid\n",
      "C:/soft/bb/MusicGenerator/midi\\Wetrix\\B1L_wetrix_practice_v1-1_XG.mid\n",
      "C:/soft/bb/MusicGenerator/midi\\Wheel of Fortune\\wofnesselect.mid\n",
      "C:/soft/bb/MusicGenerator/midi\\Where Time Stood Still\\WTSS_Ingame1_1.mid\n"
     ]
    },
    {
     "name": "stderr",
     "output_type": "stream",
     "text": [
      "C:\\Users\\rajta\\anaconda3\\lib\\site-packages\\music21\\midi\\translate.py:785: TranslateWarning: Unable to determine instrument from <music21.midi.MidiEvent SEQUENCE_TRACK_NAME, track=19, channel=None, data=b'Original Composition Copyright \\xa9 1988 by Imagine (Denton Designs)'>; getting generic Instrument\n",
      "  warnings.warn(\n"
     ]
    },
    {
     "name": "stdout",
     "output_type": "stream",
     "text": [
      "C:/soft/bb/MusicGenerator/midi\\Who Framed Roger Rabbit_\\JDC_RRContin.mid\n",
      "C:/soft/bb/MusicGenerator/midi\\Who Wants To Be A Millionaire\\Millionaire.mid\n"
     ]
    },
    {
     "name": "stderr",
     "output_type": "stream",
     "text": [
      "C:\\Users\\rajta\\anaconda3\\lib\\site-packages\\music21\\midi\\translate.py:790: TranslateWarning: Unable to determine instrument from <music21.midi.MidiEvent PROGRAM_CHANGE, track=5, channel=10, data=8>; getting generic UnpitchedPercussion\n",
      "  warnings.warn(\n"
     ]
    },
    {
     "name": "stdout",
     "output_type": "stream",
     "text": [
      "C:/soft/bb/MusicGenerator/midi\\Who Wants To Be A Millionaire_\\AudienceHelp.mid\n",
      "C:/soft/bb/MusicGenerator/midi\\Wii Fit\\Wii_Fit_Credits.mid\n",
      "C:/soft/bb/MusicGenerator/midi\\Wii Music\\Wii_Music_Zelda.mid\n",
      "C:/soft/bb/MusicGenerator/midi\\Wii Play\\Ready.mid\n",
      "C:/soft/bb/MusicGenerator/midi\\Wii Sports\\wii-wiisports-titlescreen.mid\n",
      "C:/soft/bb/MusicGenerator/midi\\Wild Arms\\0Jane.mid\n",
      "C:/soft/bb/MusicGenerator/midi\\Wild Arms 3\\WA3_BTL1.mid\n",
      "C:/soft/bb/MusicGenerator/midi\\Wild Arms_ 2nd Ignition\\BeforeTheFinalBattle.mid\n",
      "C:/soft/bb/MusicGenerator/midi\\Wild Gunman\\wildgun.mid\n",
      "C:/soft/bb/MusicGenerator/midi\\Wild Guns\\Carson_City_v1_2.mid\n",
      "C:/soft/bb/MusicGenerator/midi\\Willow\\nockmaar.mid\n",
      "C:/soft/bb/MusicGenerator/midi\\Wing Commander\\wc1sf.mid\n",
      "C:/soft/bb/MusicGenerator/midi\\Wing Commander III_ Heart of the Tiger\\WC3_FinalMissions_SMX.mid\n",
      "C:/soft/bb/MusicGenerator/midi\\Winglancer\\B1L_winglancer_area1.mid\n",
      "C:/soft/bb/MusicGenerator/midi\\Wings\\Wingsbeforemission.mid\n",
      "C:/soft/bb/MusicGenerator/midi\\Wings Of Death\\Wings_of_Death_-_Intro.mid\n",
      "C:/soft/bb/MusicGenerator/midi\\Wings of Fury\\wing_of_fury_main_titles.mid\n"
     ]
    },
    {
     "name": "stderr",
     "output_type": "stream",
     "text": [
      "C:\\Users\\rajta\\anaconda3\\lib\\site-packages\\music21\\midi\\translate.py:785: TranslateWarning: Unable to determine instrument from <music21.midi.MidiEvent SEQUENCE_TRACK_NAME, track=10, channel=None, data=b'C64-Br\\xf8derbund-game'>; getting generic Instrument\n",
      "  warnings.warn(\n"
     ]
    },
    {
     "name": "stdout",
     "output_type": "stream",
     "text": [
      "C:/soft/bb/MusicGenerator/midi\\Winter Games\\winterfree.mid\n"
     ]
    },
    {
     "name": "stderr",
     "output_type": "stream",
     "text": [
      "C:\\Users\\rajta\\anaconda3\\lib\\site-packages\\music21\\midi\\translate.py:790: TranslateWarning: Unable to determine instrument from <music21.midi.MidiEvent PROGRAM_CHANGE, track=5, channel=10, data=127>; getting generic UnpitchedPercussion\n",
      "  warnings.warn(\n"
     ]
    },
    {
     "name": "stdout",
     "output_type": "stream",
     "text": [
      "C:/soft/bb/MusicGenerator/midi\\Wipeout XL\\cb-loops.mid\n"
     ]
    },
    {
     "name": "stderr",
     "output_type": "stream",
     "text": [
      "C:\\Users\\rajta\\anaconda3\\lib\\site-packages\\music21\\midi\\translate.py:790: TranslateWarning: Unable to determine instrument from <music21.midi.MidiEvent PROGRAM_CHANGE, track=9, channel=10, data=25>; getting generic UnpitchedPercussion\n",
      "  warnings.warn(\n"
     ]
    },
    {
     "name": "stdout",
     "output_type": "stream",
     "text": [
      "C:/soft/bb/MusicGenerator/midi\\Wiz'n'Liz\\Matt_Furniss_-_Snow_Land.mid\n",
      "C:/soft/bb/MusicGenerator/midi\\Wizard of Wor\\WizardofWor.mid\n",
      "C:/soft/bb/MusicGenerator/midi\\Wizardry\\Crusoe_-_Wizardry_Camp.mid\n",
      "C:/soft/bb/MusicGenerator/midi\\Wizardry II_ The Legacy of Llylgamyn\\Wizardry_II_Opening_Theme.mid\n",
      "C:/soft/bb/MusicGenerator/midi\\Wizardry V\\Camp.mid\n"
     ]
    },
    {
     "name": "stderr",
     "output_type": "stream",
     "text": [
      "C:\\Users\\rajta\\anaconda3\\lib\\site-packages\\music21\\midi\\translate.py:790: TranslateWarning: Unable to determine instrument from <music21.midi.MidiEvent PROGRAM_CHANGE, track=9, channel=10, data=88>; getting generic UnpitchedPercussion\n",
      "  warnings.warn(\n"
     ]
    },
    {
     "name": "stdout",
     "output_type": "stream",
     "text": [
      "C:/soft/bb/MusicGenerator/midi\\Wizards and Warriors\\JDC_WW1Magic.mid\n",
      "C:/soft/bb/MusicGenerator/midi\\Wizards and Warriors 2_ Ironsword\\4elements.mid\n",
      "C:/soft/bb/MusicGenerator/midi\\Wizards and Warriors 3\\G_WizardsWarriors3_Knight.mid\n",
      "C:/soft/bb/MusicGenerator/midi\\Wizball\\wizball.mid\n",
      "C:/soft/bb/MusicGenerator/midi\\Wolfchild\\BL_wolfchild_map.mid\n",
      "C:/soft/bb/MusicGenerator/midi\\Wolverine\\LWAR-DestroyerProgram.mid\n",
      "C:/soft/bb/MusicGenerator/midi\\Wonder Boy\\WB-BossDefeated.mid\n",
      "C:/soft/bb/MusicGenerator/midi\\Wonder Boy 3_ The Dragon's Trap\\MW2-AndNow.mid\n",
      "C:/soft/bb/MusicGenerator/midi\\Wonder Boy III_ Monster Lair\\WB3-Boss.mid\n",
      "C:/soft/bb/MusicGenerator/midi\\Wonder Boy in Monster Land\\Cave.mid\n"
     ]
    },
    {
     "name": "stderr",
     "output_type": "stream",
     "text": [
      "C:\\Users\\rajta\\anaconda3\\lib\\site-packages\\music21\\midi\\translate.py:785: TranslateWarning: Unable to determine instrument from <music21.midi.MidiEvent SEQUENCE_TRACK_NAME, track=0, channel=None, data=b'Wonder Boy in Monster Land sequenced by Johnny Fini \\xb2\\xb0\\xb0\\xb2 '>; getting generic Instrument\n",
      "  warnings.warn(\n"
     ]
    },
    {
     "name": "stdout",
     "output_type": "stream",
     "text": [
      "C:/soft/bb/MusicGenerator/midi\\Wonder Boy in Monster World\\ALSEDO_THE_FAIRY_VILLAGE.mid\n",
      "C:/soft/bb/MusicGenerator/midi\\Wonder Boy_ The Dragon's Trap\\WB4-Title.mid\n",
      "C:/soft/bb/MusicGenerator/midi\\Wonder Project J (Japan)\\WPJ_-_House.mid\n",
      "C:/soft/bb/MusicGenerator/midi\\Wonderboy 3 _ Dragons Curse\\wb3castle.mid\n",
      "C:/soft/bb/MusicGenerator/midi\\Wonderboy In Monster World\\begonia.mid\n",
      "C:/soft/bb/MusicGenerator/midi\\Wonderdog\\wonderdog_gm.mid\n"
     ]
    },
    {
     "name": "stderr",
     "output_type": "stream",
     "text": [
      "C:\\Users\\rajta\\anaconda3\\lib\\site-packages\\music21\\midi\\translate.py:790: TranslateWarning: Unable to determine instrument from <music21.midi.MidiEvent PROGRAM_CHANGE, track=5, channel=10, data=25>; getting generic UnpitchedPercussion\n",
      "  warnings.warn(\n",
      "C:\\Users\\rajta\\anaconda3\\lib\\site-packages\\music21\\midi\\translate.py:790: TranslateWarning: Unable to determine instrument from <music21.midi.MidiEvent PROGRAM_CHANGE, track=6, channel=10, data=25>; getting generic UnpitchedPercussion\n",
      "  warnings.warn(\n"
     ]
    },
    {
     "name": "stdout",
     "output_type": "stream",
     "text": [
      "C:/soft/bb/MusicGenerator/midi\\Words of Power, The\\zelfgemaakt-spannend-1.mid\n",
      "C:/soft/bb/MusicGenerator/midi\\World Class Track Meet\\hurdleswait.mid\n",
      "C:/soft/bb/MusicGenerator/midi\\World Cup Italia '90\\wcup90.mid\n"
     ]
    },
    {
     "name": "stderr",
     "output_type": "stream",
     "text": [
      "C:\\Users\\rajta\\anaconda3\\lib\\site-packages\\music21\\midi\\translate.py:790: TranslateWarning: Unable to determine instrument from <music21.midi.MidiEvent PROGRAM_CHANGE, track=1, channel=10, data=19>; getting generic UnpitchedPercussion\n",
      "  warnings.warn(\n",
      "C:\\Users\\rajta\\anaconda3\\lib\\site-packages\\music21\\midi\\translate.py:790: TranslateWarning: Unable to determine instrument from <music21.midi.MidiEvent PROGRAM_CHANGE, track=7, channel=10, data=19>; getting generic UnpitchedPercussion\n",
      "  warnings.warn(\n",
      "C:\\Users\\rajta\\anaconda3\\lib\\site-packages\\music21\\midi\\translate.py:790: TranslateWarning: Unable to determine instrument from <music21.midi.MidiEvent PROGRAM_CHANGE, track=8, channel=10, data=19>; getting generic UnpitchedPercussion\n",
      "  warnings.warn(\n"
     ]
    },
    {
     "name": "stdout",
     "output_type": "stream",
     "text": [
      "C:/soft/bb/MusicGenerator/midi\\World Heroes\\T_SEGAWorldHeroes_BonusStage.mid\n"
     ]
    },
    {
     "name": "stderr",
     "output_type": "stream",
     "text": [
      "C:\\Users\\rajta\\anaconda3\\lib\\site-packages\\music21\\midi\\translate.py:790: TranslateWarning: Unable to determine instrument from <music21.midi.MidiEvent PROGRAM_CHANGE, track=8, channel=10, data=8>; getting generic UnpitchedPercussion\n",
      "  warnings.warn(\n"
     ]
    },
    {
     "name": "stdout",
     "output_type": "stream",
     "text": [
      "C:/soft/bb/MusicGenerator/midi\\World Heroes 2\\Death_Match_Chainsaw.mid\n",
      "C:/soft/bb/MusicGenerator/midi\\World Heroes Perfect\\Big_City.mid\n",
      "C:/soft/bb/MusicGenerator/midi\\World of Illusion Starring Mickey & Donald\\Mikywr00.mid\n",
      "C:/soft/bb/MusicGenerator/midi\\Worms\\Ryan_Bury_-_Worms_-_Symbolic_Remix.mid\n",
      "C:/soft/bb/MusicGenerator/midi\\Wrath of the Black Manta\\Wrath_of_the_Black_Manta.mid\n"
     ]
    },
    {
     "name": "stderr",
     "output_type": "stream",
     "text": [
      "C:\\Users\\rajta\\anaconda3\\lib\\site-packages\\music21\\midi\\translate.py:790: TranslateWarning: Unable to determine instrument from <music21.midi.MidiEvent PROGRAM_CHANGE, track=4, channel=10, data=24>; getting generic UnpitchedPercussion\n",
      "  warnings.warn(\n"
     ]
    },
    {
     "name": "stdout",
     "output_type": "stream",
     "text": [
      "C:/soft/bb/MusicGenerator/midi\\Wrecking Crew\\realwreck.mid\n",
      "C:/soft/bb/MusicGenerator/midi\\Wrestlemania 2000\\austin3[1].mid\n",
      "C:/soft/bb/MusicGenerator/midi\\WWE Smackdown\\Hollywood_Hogan.mid\n",
      "C:/soft/bb/MusicGenerator/midi\\WWE SmackDown vs  RAW 2008\\WWE__SmackDown_vs_RAW_2008_Main.mid\n",
      "C:/soft/bb/MusicGenerator/midi\\WWF Attitude\\austin.mid\n",
      "C:/soft/bb/MusicGenerator/midi\\WWF No Mercy\\OLkurtangle.mid\n",
      "C:/soft/bb/MusicGenerator/midi\\WWF Rage in the Cage\\wwf_nasty.mid\n"
     ]
    },
    {
     "name": "stderr",
     "output_type": "stream",
     "text": [
      "C:\\Users\\rajta\\anaconda3\\lib\\site-packages\\music21\\midi\\translate.py:790: TranslateWarning: Unable to determine instrument from <music21.midi.MidiEvent PROGRAM_CHANGE, track=3, channel=10, data=16>; getting generic UnpitchedPercussion\n",
      "  warnings.warn(\n"
     ]
    },
    {
     "name": "stdout",
     "output_type": "stream",
     "text": [
      "C:/soft/bb/MusicGenerator/midi\\WWF Raw Is War\\bret.mid\n",
      "C:/soft/bb/MusicGenerator/midi\\WWF Royal Rumble\\perfect.mid\n",
      "C:/soft/bb/MusicGenerator/midi\\WWF Smackdown\\Gangrel.mid\n"
     ]
    },
    {
     "name": "stderr",
     "output_type": "stream",
     "text": [
      "C:\\Users\\rajta\\anaconda3\\lib\\site-packages\\music21\\midi\\translate.py:790: TranslateWarning: Unable to determine instrument from <music21.midi.MidiEvent PROGRAM_CHANGE, track=6, channel=10, data=118>; getting generic UnpitchedPercussion\n",
      "  warnings.warn(\n",
      "C:\\Users\\rajta\\anaconda3\\lib\\site-packages\\music21\\midi\\translate.py:790: TranslateWarning: Unable to determine instrument from <music21.midi.MidiEvent PROGRAM_CHANGE, track=7, channel=10, data=118>; getting generic UnpitchedPercussion\n",
      "  warnings.warn(\n"
     ]
    },
    {
     "name": "stdout",
     "output_type": "stream",
     "text": [
      "C:/soft/bb/MusicGenerator/midi\\WWF Smackdown!\\WWF_-_Kurt_Angle.mid\n"
     ]
    },
    {
     "name": "stderr",
     "output_type": "stream",
     "text": [
      "midi.translate: WARNING: midi chord with zero duration will be treated as grace [((0, <music21.midi.MidiEvent NOTE_ON, track=3, channel=10, pitch=35, velocity=110>), (0, <music21.midi.MidiEvent NOTE_OFF, track=3, channel=10, pitch=35, velocity=0>)), ((0, <music21.midi.MidiEvent NOTE_ON, track=3, channel=10, pitch=35, velocity=110>), (0, <music21.midi.MidiEvent NOTE_OFF, track=3, channel=10, pitch=35, velocity=0>))] <music21.chord.Chord object at 0x283254d9c10>\n"
     ]
    },
    {
     "name": "stdout",
     "output_type": "stream",
     "text": [
      "C:/soft/bb/MusicGenerator/midi\\WWF WarZone\\austin2.mid\n",
      "C:/soft/bb/MusicGenerator/midi\\WWF Wrestlemania\\hogan.mid\n",
      "C:/soft/bb/MusicGenerator/midi\\WWF Wrestlemania Challenge\\BrutusPF.mid\n",
      "C:/soft/bb/MusicGenerator/midi\\WWF Wrestlemania_ The Arcade Game\\undertaker-V-undertaker_zb.mid\n"
     ]
    },
    {
     "name": "stderr",
     "output_type": "stream",
     "text": [
      "C:\\Users\\rajta\\anaconda3\\lib\\site-packages\\music21\\midi\\translate.py:785: TranslateWarning: Unable to determine instrument from <music21.midi.MidiEvent SEQUENCE_TRACK_NAME, track=8, channel=None, data=b'WWF \\xa9 1990'>; getting generic Instrument\n",
      "  warnings.warn(\n",
      "C:\\Users\\rajta\\anaconda3\\lib\\site-packages\\music21\\midi\\translate.py:785: TranslateWarning: Unable to determine instrument from <music21.midi.MidiEvent SEQUENCE_TRACK_NAME, track=14, channel=None, data=b'WWF \\xa9 1994'>; getting generic Instrument\n",
      "  warnings.warn(\n",
      "C:\\Users\\rajta\\anaconda3\\lib\\site-packages\\music21\\midi\\translate.py:790: TranslateWarning: Unable to determine instrument from <music21.midi.MidiEvent PROGRAM_CHANGE, track=14, channel=10, data=8>; getting generic UnpitchedPercussion\n",
      "  warnings.warn(\n"
     ]
    },
    {
     "name": "stdout",
     "output_type": "stream",
     "text": [
      "C:/soft/bb/MusicGenerator/midi\\X (Japan)\\x-tunnelscene.mid\n",
      "C:/soft/bb/MusicGenerator/midi\\X-It\\XI-BGM_1.mid\n",
      "C:/soft/bb/MusicGenerator/midi\\X-Men\\Excalibur_Lighthouse.mid\n",
      "C:/soft/bb/MusicGenerator/midi\\X-Men 2_ Clone Wars\\xmen2stg2c.mid\n",
      "C:/soft/bb/MusicGenerator/midi\\X-Men VS  Street Fighter\\T_XmenvsSF_Cyclops11b.mid\n",
      "C:/soft/bb/MusicGenerator/midi\\X-Men_ Mutant Apocalypse\\Character_Select.mid\n",
      "C:/soft/bb/MusicGenerator/midi\\Xanadu Scenario II_ Resurrection of the Dragon\\PC-88__Xanadu_Scenario_II__Alcanek.mid\n",
      "C:/soft/bb/MusicGenerator/midi\\Xanth\\Xintro.mid\n",
      "C:/soft/bb/MusicGenerator/midi\\Xargon Volume 1_ Beyond Reality\\JDC_XargV106v11.mid\n",
      "C:/soft/bb/MusicGenerator/midi\\Xenogears\\2-01_Ship_of_Regret_and_Sleep.mid\n",
      "C:/soft/bb/MusicGenerator/midi\\Xenon\\xenon_1.mid\n",
      "C:/soft/bb/MusicGenerator/midi\\Xenon 2\\a-XenonII.mid\n"
     ]
    },
    {
     "name": "stderr",
     "output_type": "stream",
     "text": [
      "C:\\Users\\rajta\\anaconda3\\lib\\site-packages\\music21\\midi\\translate.py:790: TranslateWarning: Unable to determine instrument from <music21.midi.MidiEvent PROGRAM_CHANGE, track=4, channel=10, data=16>; getting generic UnpitchedPercussion\n",
      "  warnings.warn(\n"
     ]
    },
    {
     "name": "stdout",
     "output_type": "stream",
     "text": [
      "C:/soft/bb/MusicGenerator/midi\\Xenon 2_ Megablast\\Megablast.mid\n",
      "C:/soft/bb/MusicGenerator/midi\\Xenophobe\\xeno.mid\n",
      "C:/soft/bb/MusicGenerator/midi\\Xenosaga Episode III_ Also sprach Zarathustra\\xs3_teloschal_ml.mid\n",
      "C:/soft/bb/MusicGenerator/midi\\Xenosaga Episode II_ Jenseits von Gut und Bose\\sakura4.mid\n",
      "C:/soft/bb/MusicGenerator/midi\\Xenosaga Episode I_ Der Wille zur Macht\\Battle.mid\n",
      "C:/soft/bb/MusicGenerator/midi\\Xevious\\xevious.mid\n",
      "C:/soft/bb/MusicGenerator/midi\\Xexyz\\XexyzEndGame.mid\n",
      "C:/soft/bb/MusicGenerator/midi\\Yie Ar Kung-Fu\\kf-theme.mid\n"
     ]
    },
    {
     "name": "stderr",
     "output_type": "stream",
     "text": [
      "C:\\Users\\rajta\\anaconda3\\lib\\site-packages\\music21\\midi\\translate.py:790: TranslateWarning: Unable to determine instrument from <music21.midi.MidiEvent PROGRAM_CHANGE, track=4, channel=10, data=10>; getting generic UnpitchedPercussion\n",
      "  warnings.warn(\n"
     ]
    },
    {
     "name": "stdout",
     "output_type": "stream",
     "text": [
      "C:/soft/bb/MusicGenerator/midi\\Yo! Noid\\vgYoNoidStg13AptBuild.mid\n",
      "C:/soft/bb/MusicGenerator/midi\\Yooka-Laylee\\Jungle-Challenge.mid\n",
      "C:/soft/bb/MusicGenerator/midi\\Yoshi\\yoshidoneb.mid\n",
      "C:/soft/bb/MusicGenerator/midi\\Yoshi Touch & Go\\YoshiTNG_Challenge_Course.mid\n",
      "C:/soft/bb/MusicGenerator/midi\\Yoshi's Cookie\\COOKIE.mid\n",
      "C:/soft/bb/MusicGenerator/midi\\Yoshi's Island\\yisland_castle_orch.mid\n",
      "C:/soft/bb/MusicGenerator/midi\\Yoshi's Island DS\\SONG_005.mid\n",
      "C:/soft/bb/MusicGenerator/midi\\Yoshi's Safari\\Yoshis_Safari_-_Map_Screen.mid\n",
      "C:/soft/bb/MusicGenerator/midi\\Yoshi's Story\\BL_yoshi_spiderswing.mid\n",
      "C:/soft/bb/MusicGenerator/midi\\Youkai Buster_ Ruka No Daibouken (Japan)\\youkai_buster_ruka_no_daibouken_-_boss_battle.mid\n",
      "C:/soft/bb/MusicGenerator/midi\\Young Merlin\\Young_Merlin.mid\n",
      "C:/soft/bb/MusicGenerator/midi\\Ys\\T_YsVanishedSEGA_Destruction.mid\n",
      "C:/soft/bb/MusicGenerator/midi\\Ys 1 & 2 Eternal Story\\Ys-To_Make_the_End_of_Battle.mid\n"
     ]
    },
    {
     "name": "stderr",
     "output_type": "stream",
     "text": [
      "C:\\Users\\rajta\\anaconda3\\lib\\site-packages\\music21\\midi\\translate.py:790: TranslateWarning: Unable to determine instrument from <music21.midi.MidiEvent PROGRAM_CHANGE, track=30, channel=10, data=24>; getting generic UnpitchedPercussion\n",
      "  warnings.warn(\n",
      "C:\\Users\\rajta\\anaconda3\\lib\\site-packages\\music21\\midi\\translate.py:790: TranslateWarning: Unable to determine instrument from <music21.midi.MidiEvent PROGRAM_CHANGE, track=30, channel=10, data=0>; getting generic UnpitchedPercussion\n",
      "  warnings.warn(\n"
     ]
    },
    {
     "name": "stdout",
     "output_type": "stream",
     "text": [
      "C:/soft/bb/MusicGenerator/midi\\Ys 2 - Ancient Ys the Final Chapter\\Ys2FinalChapter_Protectors_GMWG.mid\n"
     ]
    },
    {
     "name": "stderr",
     "output_type": "stream",
     "text": [
      "C:\\Users\\rajta\\anaconda3\\lib\\site-packages\\music21\\midi\\translate.py:790: TranslateWarning: Unable to determine instrument from <music21.midi.MidiEvent PROGRAM_CHANGE, track=10, channel=10, data=26>; getting generic UnpitchedPercussion\n",
      "  warnings.warn(\n"
     ]
    },
    {
     "name": "stdout",
     "output_type": "stream",
     "text": [
      "C:/soft/bb/MusicGenerator/midi\\Ys Book I & II\\Adol_Theme_-_Ys_Book_I_and_II.mid\n",
      "C:/soft/bb/MusicGenerator/midi\\Ys I - Ancient Ys Vanished Omen\\ys1_boss.mid\n",
      "C:/soft/bb/MusicGenerator/midi\\Ys III\\Y's3-BoyWaitingForAdventure.mid\n",
      "C:/soft/bb/MusicGenerator/midi\\Ys III_ Wanderers from Ys\\ays3boss.mid\n",
      "C:/soft/bb/MusicGenerator/midi\\Ys II_ Ancient Ys Vanished - the Final Chapter\\Ys2-OverDrive_GM-V2.mid\n"
     ]
    },
    {
     "name": "stderr",
     "output_type": "stream",
     "text": [
      "C:\\Users\\rajta\\anaconda3\\lib\\site-packages\\music21\\midi\\translate.py:790: TranslateWarning: Unable to determine instrument from <music21.midi.MidiEvent PROGRAM_CHANGE, track=6, channel=10, data=16>; getting generic UnpitchedPercussion\n",
      "  warnings.warn(\n"
     ]
    },
    {
     "name": "stdout",
     "output_type": "stream",
     "text": [
      "C:/soft/bb/MusicGenerator/midi\\Ys IV_ The Dawn of Ys\\Teary_Eyed_Swordsman.mid\n",
      "C:/soft/bb/MusicGenerator/midi\\Ys V\\Ys_V_Lost_Kingdom_Remix_dw.mid\n"
     ]
    },
    {
     "name": "stderr",
     "output_type": "stream",
     "text": [
      "C:\\Users\\rajta\\anaconda3\\lib\\site-packages\\music21\\midi\\translate.py:790: TranslateWarning: Unable to determine instrument from <music21.midi.MidiEvent PROGRAM_CHANGE, track=12, channel=10, data=32>; getting generic UnpitchedPercussion\n",
      "  warnings.warn(\n",
      "C:\\Users\\rajta\\anaconda3\\lib\\site-packages\\music21\\midi\\translate.py:790: TranslateWarning: Unable to determine instrument from <music21.midi.MidiEvent PROGRAM_CHANGE, track=13, channel=10, data=32>; getting generic UnpitchedPercussion\n",
      "  warnings.warn(\n"
     ]
    },
    {
     "name": "stdout",
     "output_type": "stream",
     "text": [
      "C:/soft/bb/MusicGenerator/midi\\Ys VI_ The Ark of Napishtim\\ys6ernst.mid\n",
      "C:/soft/bb/MusicGenerator/midi\\Ys_ Mask Of the Sun (Japan)\\ys4field.mid\n"
     ]
    },
    {
     "name": "stderr",
     "output_type": "stream",
     "text": [
      "C:\\Users\\rajta\\anaconda3\\lib\\site-packages\\music21\\midi\\translate.py:790: TranslateWarning: Unable to determine instrument from <music21.midi.MidiEvent PROGRAM_CHANGE, track=7, channel=10, data=8>; getting generic UnpitchedPercussion\n",
      "  warnings.warn(\n"
     ]
    },
    {
     "name": "stdout",
     "output_type": "stream",
     "text": [
      "C:/soft/bb/MusicGenerator/midi\\Yu Yu Hakusho\\YuYuOP.mid\n"
     ]
    },
    {
     "name": "stderr",
     "output_type": "stream",
     "text": [
      "C:\\Users\\rajta\\anaconda3\\lib\\site-packages\\music21\\midi\\translate.py:785: TranslateWarning: Unable to determine instrument from <music21.midi.MidiEvent SEQUENCE_TRACK_NAME, track=0, channel=None, data=b'\\x94\\xf7\\x8f\\xce\\x82\\xdd\\x82\\xcc\\x94\\x9a\\x92e(\\x97H\\x97V\\x94\\x92\\x8f\\x91\\x83I\\x81[\\x83v\\x83j\\x83\\x93\\x83O\\x83e\\x81[\\x83}) [\\x94n\\x93n\\x8f\\xbc\\x8eq] '>; getting generic Instrument\n",
      "  warnings.warn(\n",
      "C:\\Users\\rajta\\anaconda3\\lib\\site-packages\\music21\\midi\\translate.py:790: TranslateWarning: Unable to determine instrument from <music21.midi.MidiEvent PROGRAM_CHANGE, track=11, channel=10, data=8>; getting generic UnpitchedPercussion\n",
      "  warnings.warn(\n"
     ]
    },
    {
     "name": "stdout",
     "output_type": "stream",
     "text": [
      "C:/soft/bb/MusicGenerator/midi\\Yu Yu Hakusho_ Makyo Toitsusen (Japan)\\Genesis__Yu_Yu_Hakusho_Makyo_Toitsusen__Jin.mid\n",
      "C:/soft/bb/MusicGenerator/midi\\Yu-Gi-Oh! Forbidden Memories\\meadow_shrine.mid\n",
      "C:/soft/bb/MusicGenerator/midi\\Yu-Gi-Oh! Ultimate Masters_ World Championship Tournament 2006\\Free_Duel_-_Tier_2.mid\n",
      "C:/soft/bb/MusicGenerator/midi\\Yu-Gi-Oh! _ Worldwide Edition\\YOWWE_KCCUP.mid\n",
      "C:/soft/bb/MusicGenerator/midi\\Yuu Yuu Hakusho (Japan)\\yuu_yuu_hakusho_japan_-_arena_battle_theme.mid\n",
      "C:/soft/bb/MusicGenerator/midi\\Yuu Yuu Hakusho 2_ Kakutou no Sho (Japan)\\yuu_yuu_hakusho_kakutou_no_syo_japan_-_credits.mid\n",
      "C:/soft/bb/MusicGenerator/midi\\Yuu Yuu Hakusho Final\\YuuYuuFinalKuramaThemeSNES.mid\n",
      "C:/soft/bb/MusicGenerator/midi\\Yuuyuuki\\Yuuyuuki12.mid\n",
      "C:/soft/bb/MusicGenerator/midi\\Zanac\\zanac1a.mid\n",
      "C:/soft/bb/MusicGenerator/midi\\Zany Golf\\PinballPalace.mid\n",
      "C:/soft/bb/MusicGenerator/midi\\Zelda\\zcdiboss.mid\n",
      "C:/soft/bb/MusicGenerator/midi\\Zelda II_ The Adventure of Link\\Alternate_Battle.mid\n",
      "C:/soft/bb/MusicGenerator/midi\\Zelda's Adventure\\C_ZeldasAdventure_Overworld.mid\n",
      "C:/soft/bb/MusicGenerator/midi\\Zero Wing\\Bellon.mid\n",
      "C:/soft/bb/MusicGenerator/midi\\Zillion\\zillboss.mid\n",
      "C:/soft/bb/MusicGenerator/midi\\Zillion II_ The Tri Formation\\TriForm-Base.mid\n",
      "C:/soft/bb/MusicGenerator/midi\\Zodiac\\Zodiac.mid\n",
      "C:/soft/bb/MusicGenerator/midi\\Zoids\\zoids.mid\n"
     ]
    },
    {
     "name": "stderr",
     "output_type": "stream",
     "text": [
      "C:\\Users\\rajta\\anaconda3\\lib\\site-packages\\music21\\midi\\translate.py:790: TranslateWarning: Unable to determine instrument from <music21.midi.MidiEvent PROGRAM_CHANGE, track=11, channel=10, data=16>; getting generic UnpitchedPercussion\n",
      "  warnings.warn(\n"
     ]
    },
    {
     "name": "stdout",
     "output_type": "stream",
     "text": [
      "C:/soft/bb/MusicGenerator/midi\\Zombies Ate My Neighbors\\PoF.mid\n",
      "C:/soft/bb/MusicGenerator/midi\\Zone 66\\Zone66_PlantationCrash-FM.mid\n",
      "C:/soft/bb/MusicGenerator/midi\\Zool\\Zool-Theme.mid\n",
      "C:/soft/bb/MusicGenerator/midi\\Zoop\\Tun3.mid\n",
      "C:/soft/bb/MusicGenerator/midi\\Zorro\\zorro.mid\n",
      "didnt 101\n",
      "worked 245\n"
     ]
    }
   ],
   "source": [
    "                \n",
    "if __name__ == \"__main__\":\n",
    "    midi_path = \"C:/soft/bb/MusicGenerator/midi\"\n",
    "    start_generating_images(midi_path)\n",
    "    #midi2image(\"C:\\soft\\bb\\MusicGenerator\\midi\\ hack  Mutation\\DotHack-Innis.mid\", 1)\n",
    "    #\n",
    "#         midi2image(midi_path, 1)\n",
    "#     else:\n",
    "#         midi2image(midi_path)"
   ]
  },
  {
   "cell_type": "code",
   "execution_count": null,
   "id": "70a1a411",
   "metadata": {},
   "outputs": [],
   "source": []
  },
  {
   "cell_type": "code",
   "execution_count": null,
   "id": "931fa52c",
   "metadata": {},
   "outputs": [],
   "source": []
  }
 ],
 "metadata": {
  "kernelspec": {
   "display_name": "Python 3",
   "language": "python",
   "name": "python3"
  },
  "language_info": {
   "codemirror_mode": {
    "name": "ipython",
    "version": 3
   },
   "file_extension": ".py",
   "mimetype": "text/x-python",
   "name": "python",
   "nbconvert_exporter": "python",
   "pygments_lexer": "ipython3",
   "version": "3.8.8"
  }
 },
 "nbformat": 4,
 "nbformat_minor": 5
}

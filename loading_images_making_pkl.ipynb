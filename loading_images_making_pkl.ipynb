{
 "cells": [
  {
   "cell_type": "code",
   "execution_count": 2,
   "id": "e3758ba1",
   "metadata": {},
   "outputs": [],
   "source": [
    "import shutil\n",
    "\n",
    "import numpy as np\n",
    "import matplotlib.pyplot as plt\n",
    "import os\n",
    "import cv2\n",
    "import pickle\n",
    "from tqdm import tqdm\n",
    "import random"
   ]
  },
  {
   "cell_type": "code",
   "execution_count": 9,
   "id": "3a79569a",
   "metadata": {
    "scrolled": false
   },
   "outputs": [],
   "source": [
    "from os import listdir\n",
    "\n",
    "def make_list_paths(path):\n",
    "    used_paths = []\n",
    "    num=0;\n",
    "    for filename in listdir(path):\n",
    "        if num >2200:\n",
    "            break\n",
    "        used_paths.append(filename.split(\".\")[0])\n",
    "        num += 1\n",
    "    return used_paths\n",
    "\n",
    "data = make_list_paths(\"C:/soft/bb/MusicGenerator/data5\")"
   ]
  },
  {
   "cell_type": "code",
   "execution_count": 44,
   "id": "8e453a13",
   "metadata": {},
   "outputs": [
    {
     "name": "stdout",
     "output_type": "stream",
     "text": [
      "['10-Yard Fight - square7.png', '1942 - square17.png', '1943 - square3.png', '1999 - square2.png', '3D Battles of Worldrunner, The - square0.png', '3D Galax - square0.png', '3D StarFighter - square11.png', '4 Nin Shogi (Japan) - square6.png', '4-in-1 Fun Pak - square6.png', '4d Boxing - square2.png', '4th & Inches - square0.png', '7 Gates Of Jambala - square0.png', '7 Gates Of Jambala - square3.png', '7th Saga - square10.png', '7th Saga - square16.png', '8 Eyes - square2.png', '9 Lives - square12.png', '90 Minutes_ European Prime Goal - square6.png', 'A Boy and His Blob - square0.png', \"A Bug's Life - square0.png\", 'A Nightmare on Elm Street - square10.png', 'A Prehistoric Tale - square0.png', 'Abadox - square8.png', 'Ace Combat - square0.png', 'Ace Combat 04_ Shattered Skies - square0.png', 'Ace Combat 2 - square2.png', 'Action 52 - square1.png', 'Action Biker - square2.png', 'ActRaiser - square0.png', 'ActRaiser 2 - square15.png', \"Addams Family, The_ Pugsley's Scavenger Hunt - square1.png\", 'Advance Guardian Heroes - square0.png', 'Advance Wars - square4.png', 'Advance Wars 2_ Black Hole Rising - square16.png', 'Advance Wars_ Days of Ruin - square1.png', 'Advance Wars_ Dual Strike - square10.png', 'Advanced Tactical Fighter - square0.png', 'Advanced V  G  - square2.png', 'Advanced V  G  2 - square3.png', 'Advanced Variable Geo - square0.png', 'Adventure Construction Set - square4.png', 'Adventure Island - square1.png', 'Adventure Island 2 - square12.png', 'Adventure Island 3 - square2.png', 'Adventure Island II - square12.png', 'Adventures in the Magic Kingdom - square7.png', 'Adventures of Arle (Japan) - square0.png', 'Adventures of Batman & Robin, The - square7.png', 'Adventures of Batman and Robin, The - square4.png', 'Adventures of Dr  Franken - square6.png', 'Adventures of Lolo - square0.png', 'Adventures of Lolo 2 - square6.png', 'Adventures of Lolo 3 - square1.png', 'hack  Infection - square0.png', 'hack  Infection - square12.png', 'hack  Mutation - square0.png']\n"
     ]
    }
   ],
   "source": [
    "def get_paths(paths):\n",
    "    name_paths_img = []\n",
    "    num = 0\n",
    "    for filename in listdir(paths):\n",
    "        if num>355:\n",
    "            break\n",
    "        name_paths_img.append(filename)\n",
    "        num += 1\n",
    "    return name_paths_img\n",
    "\n",
    "p = get_paths(\"C:/soft/bb/MusicGenerator/textImages\")\n",
    "     \n",
    "print(p)     "
   ]
  },
  {
   "cell_type": "code",
   "execution_count": 45,
   "id": "c0799c57",
   "metadata": {},
   "outputs": [],
   "source": [
    "#print(p)\n",
    "\n",
    "file_notes = open(\"first_notes.txt\", \"r\")\n",
    "text = file_notes.read()\n",
    "file_notes.close()\n",
    "\n",
    "#print(text)\n",
    "\n",
    "\n",
    "dictionary_new_notes = {}\n",
    "for line in text.split(\"\\n\"):\n",
    "    name = line.split(\".mid\")[0]\n",
    "    if len(line.split(\".mid\"))>1:\n",
    "        dictionary_new_notes[name] =  line.split(\".mid\")[1]\n"
   ]
  },
  {
   "cell_type": "code",
   "execution_count": 48,
   "id": "e46bfeaf",
   "metadata": {},
   "outputs": [],
   "source": [
    "only_img={}\n",
    "for key in dictionary_new_notes.keys():\n",
    "    for n in p:\n",
    "        if key.startswith((n.split(\" - \")[0])):\n",
    "            only_img[n] = dictionary_new_notes[key]"
   ]
  },
  {
   "cell_type": "code",
   "execution_count": 54,
   "id": "ba7d1bba",
   "metadata": {},
   "outputs": [],
   "source": [
    "#print(only_img)\n",
    "\n",
    "file = open(\"proba2.txt\",\"w\")\n",
    "for key in only_img.keys():\n",
    "    line = key+\" \"+only_img[key]+ \"\\n\"\n",
    "    file.writelines(line)\n",
    "    \n",
    "file.close()"
   ]
  },
  {
   "cell_type": "code",
   "execution_count": 12,
   "id": "f453660c",
   "metadata": {},
   "outputs": [],
   "source": [
    "def create_training_data():\n",
    "    path = os.path.join(DATADIR, \"\")\n",
    "    for img in tqdm(os.listdir(path)):\n",
    "        try:\n",
    "            img_array = cv2.imread(os.path.join(path, img),cv2.IMREAD_GRAYSCALE) \n",
    "            new_array = cv2.resize(img_array, (IMG_SIZE, IMG_SIZE))\n",
    "\n",
    "            all_pictures[img.split(\".png\")[0]]=new_array\n",
    "        except Exception as e:\n",
    "            print(\"cc\")"
   ]
  },
  {
   "cell_type": "code",
   "execution_count": null,
   "id": "2013aa1d",
   "metadata": {},
   "outputs": [],
   "source": []
  },
  {
   "cell_type": "code",
   "execution_count": 5,
   "id": "774511c4",
   "metadata": {},
   "outputs": [],
   "source": [
    "all_pictures={}"
   ]
  },
  {
   "cell_type": "code",
   "execution_count": 6,
   "id": "98d590b8",
   "metadata": {},
   "outputs": [],
   "source": [
    "training_data=[]"
   ]
  },
  {
   "cell_type": "code",
   "execution_count": 13,
   "id": "f9c117fa",
   "metadata": {},
   "outputs": [],
   "source": [
    "DATADIR = \"C:/soft/bb/MusicGenerator/textImages\""
   ]
  },
  {
   "cell_type": "code",
   "execution_count": 14,
   "id": "ec88cbca",
   "metadata": {},
   "outputs": [],
   "source": [
    "def create_pkl():\n",
    "    create_training_data()\n",
    "    X = []\n",
    "    for img_train in all_pictures.values():\n",
    "        X.append(img_train)\n",
    "       \n",
    "    X = np.array(X).reshape(-1, 64, 64, 1)\n",
    "    pickle_out = open(\"X.pickle\", \"wb\") #cuvanje podataka\n",
    "    pickle.dump(X, pickle_out)\n",
    "    pickle_out.close()\n",
    "\n",
    "    pickle_in = open(\"X.pickle\", \"rb\")\n",
    "    print( pickle.load(pickle_in))"
   ]
  },
  {
   "cell_type": "code",
   "execution_count": 15,
   "id": "15433a35",
   "metadata": {},
   "outputs": [
    {
     "name": "stderr",
     "output_type": "stream",
     "text": [
      "100%|███████████████████████████████████████████████████████████████████| 56/56 [00:00<00:00, 207.16it/s]"
     ]
    },
    {
     "name": "stdout",
     "output_type": "stream",
     "text": [
      "cc\n",
      "cc\n",
      "cc\n",
      "cc\n",
      "cc\n",
      "cc\n",
      "cc\n",
      "cc\n",
      "cc\n",
      "cc\n",
      "cc\n",
      "cc\n",
      "cc\n",
      "cc\n",
      "cc\n",
      "cc\n",
      "cc\n",
      "cc\n",
      "cc\n",
      "cc\n",
      "cc\n",
      "cc\n",
      "cc\n",
      "cc\n",
      "cc\n",
      "cc\n",
      "cc\n",
      "cc\n",
      "cc\n",
      "cc\n",
      "cc\n",
      "cc\n",
      "cc\n",
      "cc\n",
      "cc\n",
      "cc\n",
      "cc\n",
      "cc\n",
      "cc\n",
      "cc\n",
      "cc\n",
      "cc\n",
      "cc\n",
      "cc\n",
      "cc\n",
      "cc\n",
      "cc\n",
      "cc\n",
      "cc\n",
      "cc\n",
      "cc\n",
      "cc\n",
      "cc\n",
      "cc\n",
      "cc\n",
      "cc\n"
     ]
    },
    {
     "name": "stderr",
     "output_type": "stream",
     "text": [
      "\n"
     ]
    },
    {
     "ename": "NameError",
     "evalue": "name 'all_pictures' is not defined",
     "output_type": "error",
     "traceback": [
      "\u001b[1;31m---------------------------------------------------------------------------\u001b[0m",
      "\u001b[1;31mNameError\u001b[0m                                 Traceback (most recent call last)",
      "\u001b[1;32m<ipython-input-15-04e417f38150>\u001b[0m in \u001b[0;36m<module>\u001b[1;34m\u001b[0m\n\u001b[0;32m      1\u001b[0m \u001b[1;32mif\u001b[0m \u001b[0m__name__\u001b[0m\u001b[1;33m==\u001b[0m\u001b[1;34m\"__main__\"\u001b[0m\u001b[1;33m:\u001b[0m\u001b[1;33m\u001b[0m\u001b[1;33m\u001b[0m\u001b[0m\n\u001b[1;32m----> 2\u001b[1;33m     \u001b[0mcreate_pkl\u001b[0m\u001b[1;33m(\u001b[0m\u001b[1;33m)\u001b[0m\u001b[1;33m\u001b[0m\u001b[1;33m\u001b[0m\u001b[0m\n\u001b[0m",
      "\u001b[1;32m<ipython-input-14-864b9e515990>\u001b[0m in \u001b[0;36mcreate_pkl\u001b[1;34m()\u001b[0m\n\u001b[0;32m      2\u001b[0m     \u001b[0mcreate_training_data\u001b[0m\u001b[1;33m(\u001b[0m\u001b[1;33m)\u001b[0m\u001b[1;33m\u001b[0m\u001b[1;33m\u001b[0m\u001b[0m\n\u001b[0;32m      3\u001b[0m     \u001b[0mX\u001b[0m \u001b[1;33m=\u001b[0m \u001b[1;33m[\u001b[0m\u001b[1;33m]\u001b[0m\u001b[1;33m\u001b[0m\u001b[1;33m\u001b[0m\u001b[0m\n\u001b[1;32m----> 4\u001b[1;33m     \u001b[1;32mfor\u001b[0m \u001b[0mimg_train\u001b[0m \u001b[1;32min\u001b[0m \u001b[0mall_pictures\u001b[0m\u001b[1;33m.\u001b[0m\u001b[0mvalues\u001b[0m\u001b[1;33m(\u001b[0m\u001b[1;33m)\u001b[0m\u001b[1;33m:\u001b[0m\u001b[1;33m\u001b[0m\u001b[1;33m\u001b[0m\u001b[0m\n\u001b[0m\u001b[0;32m      5\u001b[0m         \u001b[0mX\u001b[0m\u001b[1;33m.\u001b[0m\u001b[0mappend\u001b[0m\u001b[1;33m(\u001b[0m\u001b[0mimg_train\u001b[0m\u001b[1;33m)\u001b[0m\u001b[1;33m\u001b[0m\u001b[1;33m\u001b[0m\u001b[0m\n\u001b[0;32m      6\u001b[0m \u001b[1;33m\u001b[0m\u001b[0m\n",
      "\u001b[1;31mNameError\u001b[0m: name 'all_pictures' is not defined"
     ]
    }
   ],
   "source": [
    "if __name__==\"__main__\":\n",
    "    create_pkl()"
   ]
  },
  {
   "cell_type": "code",
   "execution_count": null,
   "id": "68621ebc",
   "metadata": {},
   "outputs": [],
   "source": []
  }
 ],
 "metadata": {
  "kernelspec": {
   "display_name": "Python 3",
   "language": "python",
   "name": "python3"
  },
  "language_info": {
   "codemirror_mode": {
    "name": "ipython",
    "version": 3
   },
   "file_extension": ".py",
   "mimetype": "text/x-python",
   "name": "python",
   "nbconvert_exporter": "python",
   "pygments_lexer": "ipython3",
   "version": "3.8.8"
  }
 },
 "nbformat": 4,
 "nbformat_minor": 5
}

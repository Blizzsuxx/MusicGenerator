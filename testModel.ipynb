{
 "cells": [
  {
   "cell_type": "code",
   "execution_count": 4,
   "id": "2bf58cc7",
   "metadata": {},
   "outputs": [
    {
     "name": "stdout",
     "output_type": "stream",
     "text": [
      "Input name of image:\n",
      "aa\n",
      "Can't open image! Check path.\n",
      "Something went wrong\n"
     ]
    }
   ],
   "source": [
    "#ide na git\n",
    "import numpy as np\n",
    "from PIL import Image\n",
    "import matplotlib.pyplot as plt\n",
    "import argparse\n",
    "\n",
    "img_path = \"C:/soft/bb/MusicGenerator/first.png\"#args['image']\n",
    "\n",
    "def extract_features(filename, model):\n",
    "    try:\n",
    "        picture = Image.open(filename)\n",
    "    except:\n",
    "        print(\"Can't open image! Check path.\")\n",
    "    picture = picture.resize((299,299))\n",
    "    picture = np.array(picture)\n",
    "    \n",
    "    if picture.shape[2] == 4:\n",
    "        picture = picture[..., :3]\n",
    "    picture = np.expand_dims(picture, axis=0)\n",
    "    picture = picture/127.5\n",
    "    picture = picture - 1.0\n",
    "    feature = model.predict(picture)\n",
    "    return feature\n",
    "\n",
    "def word_for_id(integer, tokenizer):\n",
    "    for word, index in tokenizer.word_index.items():\n",
    "        if index == integer:\n",
    "            return word\n",
    "    return None\n",
    "\n",
    "def generate_desc(model, tokenizer, photo_to_predict, max_length):\n",
    "    in_text = ''\n",
    "    for i in range(max_length):\n",
    "        seq = tokenizer.texts_to_sequences([in_text])[0]\n",
    "        seq = pad_sequences([seq], maxlen=max_length)\n",
    "        prediction = model.predict([photo_to_predict,seq], verbose=0)\n",
    "        prediction = np.argmax(prediction)\n",
    "        word = word_for_id(prediction, tokenizer)\n",
    "        if word is None:\n",
    "            break\n",
    "        in_text += ' ' + word\n",
    "        if word == 'end':\n",
    "            break\n",
    "    return in_text\n",
    "max_length = 30\n",
    "tokenizer = load(open(\"tokenizer.p\",\"rb\"))\n",
    "model = load_model('models/model_9.h5')\n",
    "xception_model = Xception(include_top=False, pooling=\"avg\")\n",
    "\n",
    "try:\n",
    "    print(\"Input name of image:\")\n",
    "    img_path2 = input()\n",
    "    photo = extract_features(img_path2, xception_model)\n",
    "    img = Image.open(img_path2)\n",
    "    description = generate_desc(model, tokenizer, photo, max_length)\n",
    "    print(\"nn\")\n",
    "    print(description)\n",
    "    plt.imshow(img)\n",
    "except:\n",
    "    print(\"Something went wrong\")"
   ]
  },
  {
   "cell_type": "code",
   "execution_count": 1,
   "id": "f2303918",
   "metadata": {},
   "outputs": [
    {
     "name": "stderr",
     "output_type": "stream",
     "text": [
      "<ipython-input-1-8a584cf2be25>:19: TqdmDeprecationWarning: This function will be removed in tqdm==5.0.0\n",
      "Please use `tqdm.notebook.tqdm` instead of `tqdm.tqdm_notebook`\n",
      "  tqdm().pandas()\n"
     ]
    },
    {
     "data": {
      "application/vnd.jupyter.widget-view+json": {
       "model_id": "33939173bb634f65b401aa6813358f3e",
       "version_major": 2,
       "version_minor": 0
      },
      "text/plain": [
       "0it [00:00, ?it/s]"
      ]
     },
     "metadata": {},
     "output_type": "display_data"
    }
   ],
   "source": [
    "import numpy as np\n",
    "from PIL import Image\n",
    "import os\n",
    "import string\n",
    "from pickle import dump\n",
    "from pickle import load\n",
    "from keras.applications.xception import Xception #to get pre-trained model Xception\n",
    "from keras.applications.xception import preprocess_input\n",
    "from keras.preprocessing.image import load_img\n",
    "from keras.preprocessing.image import img_to_array\n",
    "from keras.preprocessing.text import Tokenizer #for text tokenization\n",
    "from keras.preprocessing.sequence import pad_sequences\n",
    "from keras.utils import to_categorical\n",
    "from keras.layers.merge import add\n",
    "from keras.models import Model, load_model\n",
    "from keras.layers import Input, Dense#Keras to build our CNN and LSTM\n",
    "from keras.layers import LSTM, Embedding, Dropout\n",
    "from tqdm import tqdm_notebook as tqdm #to check loop progress\n",
    "tqdm().pandas()\n",
    "\n",
    "from keras.preprocessing.text import Tokenizer"
   ]
  },
  {
   "cell_type": "code",
   "execution_count": 3,
   "id": "811cc099",
   "metadata": {},
   "outputs": [
    {
     "name": "stdout",
     "output_type": "stream",
     "text": [
      "1-0-63-110-25 1-0-2-46-108 1-0-2-63-32 1-768-0-51-61 1-0-9-42-100 1-768-9-61-9 \n"
     ]
    }
   ],
   "source": [
    "stri = \"1-\"\n",
    "i = 0\n",
    "\n",
    "for number in description.split(\" \")[2:]: \n",
    "    if i % 5 == 4:\n",
    "        stri+=\"1\"\n",
    "    else:\n",
    "        stri += number\n",
    "    \n",
    "    if i % 5 == 3:\n",
    "        stri+=\" \"\n",
    "    else:\n",
    "        stri+=\"-\"\n",
    "    i+=1\n",
    "    \n",
    "print(stri)   \n",
    "sourceFile = open('demo.txt', 'w')\n",
    "print(stri, file = sourceFile)\n",
    "sourceFile.close()"
   ]
  },
  {
   "cell_type": "code",
   "execution_count": null,
   "id": "e24f9b35",
   "metadata": {},
   "outputs": [],
   "source": [
    "1-0-48-127-87 1-0-63-78-0 1-0-75-100-81 0-0-75-100-81 0-0-48-127-81 0-0-68-100-81"
   ]
  }
 ],
 "metadata": {
  "kernelspec": {
   "display_name": "Python 3",
   "language": "python",
   "name": "python3"
  },
  "language_info": {
   "codemirror_mode": {
    "name": "ipython",
    "version": 3
   },
   "file_extension": ".py",
   "mimetype": "text/x-python",
   "name": "python",
   "nbconvert_exporter": "python",
   "pygments_lexer": "ipython3",
   "version": "3.8.8"
  }
 },
 "nbformat": 4,
 "nbformat_minor": 5
}

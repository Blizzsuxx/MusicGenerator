{
 "cells": [
  {
   "cell_type": "code",
   "execution_count": 31,
   "id": "d2212e13",
   "metadata": {},
   "outputs": [],
   "source": [
    "import os\n",
    "import sys\n",
    "from PIL import Image\n",
    "\n",
    "def make_trening_pictures(path):\n",
    "    pass\n",
    "\n",
    "\n",
    "\n",
    "def isOtherImageHere(files):\n",
    "    for file in files:\n",
    "        if file.endswith(\"png\") and not file.endswith(\"_0.png\"):\n",
    "            return True\n",
    "    return False;\n",
    "        \n",
    "def getOtherImage(files):\n",
    "    for file in files:\n",
    "        if file.endswith(\"png\") and not file.endswith(\"_0.png\"):\n",
    "            return file"
   ]
  },
  {
   "cell_type": "code",
   "execution_count": 32,
   "id": "01a69a14",
   "metadata": {},
   "outputs": [],
   "source": [
    "\n",
    "def concatenate_images(list_im):\n",
    "    new_im = Image.new('RGB', (256,128))\n",
    "    \n",
    "    image = Image.open(list_im[1])\n",
    "    resized_image = image.resize((156,128))\n",
    "        \n",
    "    for i in range(0,156,128):\n",
    "        im=resized_image\n",
    "        new_im.paste(im, (i,0))\n",
    "    \n",
    "    for i in range(0,256,128):\n",
    "        im=Image.open(list_im[0])\n",
    "        new_im.paste(im, (156,0))\n",
    "    \n",
    "    name =  list_im[0].split(\"_0.png\")[0]\n",
    "    name = name.split(\"\\\\\")[1]\n",
    "    new_im.save(name + '_test.png')\n",
    "\n",
    "def start_makeing(path): \n",
    "    list_paths = []\n",
    "    for subdir, dirs, files in os.walk(path):\n",
    "        for file in files:\n",
    "            if file.endswith(\"_0.png\") and isOtherImageHere(files):\n",
    "                list_paths.append((os.path.join(subdir, file), os.path.join(subdir,getOtherImage(files))))\n",
    "                break\n",
    "                \n",
    "    for pair in list_paths:\n",
    "        concatenate_images(pair)\n",
    "    #concatenate_images(list_paths[0])\n",
    "    #print(len(list_paths)) 2018"
   ]
  },
  {
   "cell_type": "code",
   "execution_count": 33,
   "id": "caa25c5f",
   "metadata": {},
   "outputs": [],
   "source": [
    "if __name__ == \"__main__\":\n",
    "    midi_path = \"C:/soft/bb/MusicGenerator/midi\"\n",
    "    start_makeing(midi_path)"
   ]
  },
  {
   "cell_type": "code",
   "execution_count": null,
   "id": "b0b6f1ea",
   "metadata": {},
   "outputs": [],
   "source": []
  }
 ],
 "metadata": {
  "kernelspec": {
   "display_name": "Python 3",
   "language": "python",
   "name": "python3"
  },
  "language_info": {
   "codemirror_mode": {
    "name": "ipython",
    "version": 3
   },
   "file_extension": ".py",
   "mimetype": "text/x-python",
   "name": "python",
   "nbconvert_exporter": "python",
   "pygments_lexer": "ipython3",
   "version": "3.8.8"
  }
 },
 "nbformat": 4,
 "nbformat_minor": 5
}
